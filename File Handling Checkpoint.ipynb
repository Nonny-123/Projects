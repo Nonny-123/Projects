{
 "cells": [
  {
   "cell_type": "code",
   "execution_count": 1,
   "id": "d0b48c6b-6d3d-4280-8a66-c4022758d891",
   "metadata": {},
   "outputs": [],
   "source": [
    "import numpy as np"
   ]
  },
  {
   "cell_type": "code",
   "execution_count": 4,
   "id": "7a40f5be-7550-404a-9dad-401a59eb95c5",
   "metadata": {},
   "outputs": [],
   "source": [
    "file = np.genfromtxt(\"Loan_prediction_dataset.csv\", delimiter=',')"
   ]
  },
  {
   "cell_type": "code",
   "execution_count": 6,
   "id": "252502a4-5236-4be1-946f-135a90593cbd",
   "metadata": {},
   "outputs": [],
   "source": [
    "file1 = open(\"Loan_prediction_dataset.csv\", \"r\")"
   ]
  },
  {
   "cell_type": "code",
   "execution_count": 14,
   "id": "d577feb7-7217-4e13-9c45-762b8f588092",
   "metadata": {},
   "outputs": [],
   "source": [
    "file_path = \"Loan_prediction_dataset.csv\"  \n",
    "with open(file_path, 'r') as file:\n",
    "    data = np.genfromtxt(file, delimiter=',', skip_header=1, dtype=None, encoding='utf-8')"
   ]
  },
  {
   "cell_type": "code",
   "execution_count": 17,
   "id": "6c690b20-5613-476c-bf2f-816d6be0bef6",
   "metadata": {},
   "outputs": [
    {
     "ename": "_IncompleteInputError",
     "evalue": "incomplete input (3931242218.py, line 1)",
     "output_type": "error",
     "traceback": [
      "\u001b[0;36m  Cell \u001b[0;32mIn[17], line 1\u001b[0;36m\u001b[0m\n\u001b[0;31m    loan_amounts = np.array([float(row[8])\u001b[0m\n\u001b[0m                                           ^\u001b[0m\n\u001b[0;31m_IncompleteInputError\u001b[0m\u001b[0;31m:\u001b[0m incomplete input\n"
     ]
    }
   ],
   "source": [
    "loan_amounts = np.array([float(row[8]) "
   ]
  },
  {
   "cell_type": "code",
   "execution_count": 10,
   "id": "4da7193c-0c06-4c73-b0a0-503192b543b2",
   "metadata": {},
   "outputs": [],
   "source": [
    "file2 = np.array9file"
   ]
  },
  {
   "cell_type": "code",
   "execution_count": 11,
   "id": "9ac90e79-b9e0-4302-8fa2-34435fc9f356",
   "metadata": {},
   "outputs": [
    {
     "data": {
      "text/plain": [
       "array([[nan, nan, nan, ..., nan, nan, nan],\n",
       "       [nan, nan, nan, ...,  1., nan, nan],\n",
       "       [nan, nan, nan, ...,  1., nan, nan],\n",
       "       ...,\n",
       "       [nan, nan, nan, ...,  1., nan, nan],\n",
       "       [nan, nan, nan, ...,  1., nan, nan],\n",
       "       [nan, nan, nan, ...,  0., nan, nan]], shape=(615, 13))"
      ]
     },
     "execution_count": 11,
     "metadata": {},
     "output_type": "execute_result"
    }
   ],
   "source": [
    "file2"
   ]
  },
  {
   "cell_type": "code",
   "execution_count": null,
   "id": "92f19b31-4322-45cd-b383-8baa8d877348",
   "metadata": {},
   "outputs": [],
   "source": []
  }
 ],
 "metadata": {
  "kernelspec": {
   "display_name": "Python 3 (ipykernel)",
   "language": "python",
   "name": "python3"
  },
  "language_info": {
   "codemirror_mode": {
    "name": "ipython",
    "version": 3
   },
   "file_extension": ".py",
   "mimetype": "text/x-python",
   "name": "python",
   "nbconvert_exporter": "python",
   "pygments_lexer": "ipython3",
   "version": "3.13.0"
  }
 },
 "nbformat": 4,
 "nbformat_minor": 5
}
