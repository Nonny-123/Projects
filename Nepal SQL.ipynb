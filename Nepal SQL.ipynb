{
 "cells": [
  {
   "cell_type": "code",
   "execution_count": 58,
   "id": "ff799089-cc43-435c-9b25-c1b3390724dc",
   "metadata": {},
   "outputs": [
    {
     "name": "stderr",
     "output_type": "stream",
     "text": [
      "/var/folders/p7/d9_mnjys5ss5hl9mmyf2hsgr0000gn/T/ipykernel_44931/2944889590.py:3: DeprecationWarning: the 'DEFAULT' constant is deprecated, use the 'TableStyle' enum instead\n",
      "  run.prettytable.__dict__.setdefault('DEFAULT', run.prettytable.DEFAULT)\n"
     ]
    },
    {
     "data": {
      "text/plain": [
       "<TableStyle.DEFAULT: 10>"
      ]
     },
     "execution_count": 58,
     "metadata": {},
     "output_type": "execute_result"
    }
   ],
   "source": [
    "import sqlite3\n",
    "from sql import run\n",
    "run.prettytable.__dict__.setdefault('DEFAULT', run.prettytable.DEFAULT)"
   ]
  },
  {
   "cell_type": "code",
   "execution_count": 59,
   "id": "6c3f9b20-db68-40f6-9046-a5085125f8c7",
   "metadata": {},
   "outputs": [],
   "source": [
    "%load_ext sql\n",
    "%sql sqlite:///nepal_eq.db"
   ]
  },
  {
   "cell_type": "code",
   "execution_count": 92,
   "id": "a2870614-cde2-4ca9-8811-7c7aa9ff7beb",
   "metadata": {},
   "outputs": [
    {
     "name": "stdout",
     "output_type": "stream",
     "text": [
      " * sqlite:///nepal_eq.db\n",
      "Done.\n"
     ]
    },
    {
     "data": {
      "text/html": [
       "<table>\n",
       "    <thead>\n",
       "        <tr>\n",
       "            <th>type</th>\n",
       "            <th>name</th>\n",
       "            <th>tbl_name</th>\n",
       "            <th>rootpage</th>\n",
       "            <th>sql</th>\n",
       "        </tr>\n",
       "    </thead>\n",
       "    <tbody>\n",
       "        <tr>\n",
       "            <td>table</td>\n",
       "            <td>building_damage</td>\n",
       "            <td>building_damage</td>\n",
       "            <td>24282</td>\n",
       "            <td>CREATE TABLE &quot;building_damage&quot; (<br>\t&quot;area_assesed&quot;\tTEXT,<br>\t&quot;building_id&quot;\tREAL,<br>\t&quot;damage_overall_collapse&quot;\tTEXT,<br>\t&quot;damage_overall_leaning&quot;\tTEXT,<br>\t&quot;damage_overall_adjacent_building_risk&quot;\tTEXT,<br>\t&quot;damage_foundation_severe&quot;\tTEXT,<br>\t&quot;damage_foundation_moderate&quot;\tTEXT,<br>\t&quot;damage_foundation_insignificant&quot;\tTEXT,<br>\t&quot;damage_roof_severe&quot;\tTEXT,<br>\t&quot;damage_roof_moderate&quot;\tTEXT,<br>\t&quot;damage_roof_insignificant&quot;\tTEXT,<br>\t&quot;damage_corner_separation_severe&quot;\tTEXT,<br>\t&quot;damage_corner_separation_moderate&quot;\tTEXT,<br>\t&quot;damage_corner_separation_insignificant&quot;\tTEXT,<br>\t&quot;damage_diagonal_cracking_severe&quot;\tTEXT,<br>\t&quot;damage_diagonal_cracking_moderate&quot;\tTEXT,<br>\t&quot;damage_diagonal_cracking_insignificant&quot;\tTEXT,<br>\t&quot;damage_in_plane_failure_severe&quot;\tTEXT,<br>\t&quot;damage_in_plane_failure_moderate&quot;\tTEXT,<br>\t&quot;damage_in_plane_failure_insignificant&quot;\tTEXT,<br>\t&quot;damage_out_of_plane_failure_severe&quot;\tTEXT,<br>\t&quot;damage_out_of_plane_failure_moderate&quot;\tTEXT,<br>\t&quot;damage_out_of_plane_failure_insignificant&quot;\tTEXT,<br>\t&quot;damage_out_of_plane_failure_walls_ncfr_severe&quot;\tTEXT,<br>\t&quot;damage_out_of_plane_failure_walls_ncfr_moderate&quot;\tTEXT,<br>\t&quot;damage_out_of_plane_failure_walls_ncfr_insignificant&quot;\tTEXT,<br>\t&quot;damage_gable_failure_severe&quot;\tTEXT,<br>\t&quot;damage_gable_failure_moderate&quot;\tTEXT,<br>\t&quot;damage_gable_failure_insignificant&quot;\tTEXT,<br>\t&quot;damage_delamination_failure_severe&quot;\tTEXT,<br>\t&quot;damage_delamination_failure_moderate&quot;\tTEXT,<br>\t&quot;damage_delamination_failure_insignificant&quot;\tTEXT,<br>\t&quot;damage_column_failure_severe&quot;\tTEXT,<br>\t&quot;damage_column_failure_moderate&quot;\tTEXT,<br>\t&quot;damage_column_failure_insignificant&quot;\tTEXT,<br>\t&quot;damage_beam_failure_severe&quot;\tTEXT,<br>\t&quot;damage_beam_failure_moderate&quot;\tTEXT,<br>\t&quot;damage_beam_failure_insignificant&quot;\tTEXT,<br>\t&quot;damage_infill_partition_failure_severe&quot;\tTEXT,<br>\t&quot;damage_infill_partition_failure_moderate&quot;\tTEXT,<br>\t&quot;damage_infill_partition_failure_insignificant&quot;\tTEXT,<br>\t&quot;damage_staircase_severe&quot;\tTEXT,<br>\t&quot;damage_staircase_moderate&quot;\tTEXT,<br>\t&quot;damage_staircase_insignificant&quot;\tTEXT,<br>\t&quot;damage_parapet_severe&quot;\tTEXT,<br>\t&quot;damage_parapet_moderate&quot;\tTEXT,<br>\t&quot;damage_parapet_insignificant&quot;\tTEXT,<br>\t&quot;damage_cladding_glazing_severe&quot;\tTEXT,<br>\t&quot;damage_cladding_glazing_moderate&quot;\tTEXT,<br>\t&quot;damage_cladding_glazing_insignificant&quot;\tTEXT,<br>\t&quot;damage_grade&quot;\tTEXT,<br>\t&quot;district_id&quot;\tINTEGER,<br>\t&quot;technical_solution_proposed&quot;\tTEXT,<br>\t&quot;has_repair_started&quot;\tTEXT,<br>\t&quot;has_damage_foundation&quot;\tTEXT,<br>\t&quot;has_damage_roof&quot;\tTEXT,<br>\t&quot;has_damage_corner_separation&quot;\tTEXT,<br>\t&quot;has_damage_diagonal_cracking&quot;\tTEXT,<br>\t&quot;has_damage_in_plane_failure&quot;\tTEXT,<br>\t&quot;has_damage_out_of_plane_failure&quot;\tTEXT,<br>\t&quot;has_damage_out_of_plane_walls_ncfr_failure&quot;\tTEXT,<br>\t&quot;has_damage_gable_failure&quot;\tTEXT,<br>\t&quot;has_damage_delamination_failure&quot;\tTEXT,<br>\t&quot;has_damage_column_failure&quot;\tTEXT,<br>\t&quot;has_damage_beam_failure&quot;\tTEXT,<br>\t&quot;has_damage_infill_partition_failure&quot;\tTEXT,<br>\t&quot;has_damage_staircase&quot;\tTEXT,<br>\t&quot;has_damage_parapet&quot;\tTEXT,<br>\t&quot;has_damage_cladding_glazing&quot;\tTEXT,<br>\t&quot;has_geotechnical_risk&quot;\tREAL,<br>\t&quot;has_geotechnical_risk_land_settlement&quot;\tINTEGER,<br>\t&quot;has_geotechnical_risk_fault_crack&quot;\tINTEGER,<br>\t&quot;has_geotechnical_risk_liquefaction&quot;\tINTEGER,<br>\t&quot;has_geotechnical_risk_landslide&quot;\tINTEGER,<br>\t&quot;has_geotechnical_risk_rock_fall&quot;\tINTEGER,<br>\t&quot;has_geotechnical_risk_flood&quot;\tINTEGER,<br>\t&quot;has_geotechnical_risk_other&quot;\tINTEGER<br>)</td>\n",
       "        </tr>\n",
       "        <tr>\n",
       "            <td>table</td>\n",
       "            <td>building_structure</td>\n",
       "            <td>building_structure</td>\n",
       "            <td>78109</td>\n",
       "            <td>CREATE TABLE &quot;building_structure&quot; (<br>\t&quot;age_building&quot;\tINTEGER,<br>\t&quot;building_id&quot;\tREAL,<br>\t&quot;condition_post_eq&quot;\tTEXT,<br>\t&quot;count_floors_post_eq&quot;\tINTEGER,<br>\t&quot;count_floors_pre_eq&quot;\tINTEGER,<br>\t&quot;foundation_type&quot;\tTEXT,<br>\t&quot;ground_floor_type&quot;\tTEXT,<br>\t&quot;height_ft_post_eq&quot;\tINTEGER,<br>\t&quot;height_ft_pre_eq&quot;\tINTEGER,<br>\t&quot;land_surface_condition&quot;\tTEXT,<br>\t&quot;other_floor_type&quot;\tTEXT,<br>\t&quot;plan_configuration&quot;\tTEXT,<br>\t&quot;plinth_area_sq_ft&quot;\tINTEGER,<br>\t&quot;position&quot;\tTEXT,<br>\t&quot;roof_type&quot;\tTEXT,<br>\t&quot;superstructure&quot;\tTEXT<br>)</td>\n",
       "        </tr>\n",
       "        <tr>\n",
       "            <td>table</td>\n",
       "            <td>household_demographics</td>\n",
       "            <td>household_demographics</td>\n",
       "            <td>109183</td>\n",
       "            <td>CREATE TABLE &quot;household_demographics&quot; (<br>\t&quot;household_id&quot;\tREAL,<br>\t&quot;gender_household_head&quot;\tTEXT,<br>\t&quot;age_household_head&quot;\tREAL,<br>\t&quot;caste_household&quot;\tTEXT,<br>\t&quot;education_level_household_head&quot;\tTEXT,<br>\t&quot;income_level_household&quot;\tTEXT,<br>\t&quot;size_household&quot;\tREAL,<br>\t&quot;is_bank_account_present_in_household&quot;\tREAL<br>)</td>\n",
       "        </tr>\n",
       "        <tr>\n",
       "            <td>table</td>\n",
       "            <td>id_map</td>\n",
       "            <td>id_map</td>\n",
       "            <td>3</td>\n",
       "            <td>CREATE TABLE &quot;id_map&quot; (<br>\t&quot;building_id&quot;\tREAL,<br>\t&quot;district_id&quot;\tINTEGER,<br>\t&quot;vdcmun_id&quot;\tINTEGER,<br>\t&quot;household_id&quot;\tTEXT<br>)</td>\n",
       "        </tr>\n",
       "    </tbody>\n",
       "</table>"
      ],
      "text/plain": [
       "[('table', 'building_damage', 'building_damage', 24282, 'CREATE TABLE \"building_damage\" (\\n\\t\"area_assesed\"\\tTEXT,\\n\\t\"building_id\"\\tREAL,\\n\\t\"damage_overall_collapse\"\\tTEXT,\\n\\t\"damage_overall_leaning\"\\tTE ... (3025 characters truncated) ... ide\"\\tINTEGER,\\n\\t\"has_geotechnical_risk_rock_fall\"\\tINTEGER,\\n\\t\"has_geotechnical_risk_flood\"\\tINTEGER,\\n\\t\"has_geotechnical_risk_other\"\\tINTEGER\\n)'),\n",
       " ('table', 'building_structure', 'building_structure', 78109, 'CREATE TABLE \"building_structure\" (\\n\\t\"age_building\"\\tINTEGER,\\n\\t\"building_id\"\\tREAL,\\n\\t\"condition_post_eq\"\\tTEXT,\\n\\t\"count_floors_post_eq\"\\tINTE ... (213 characters truncated) ... _type\"\\tTEXT,\\n\\t\"plan_configuration\"\\tTEXT,\\n\\t\"plinth_area_sq_ft\"\\tINTEGER,\\n\\t\"position\"\\tTEXT,\\n\\t\"roof_type\"\\tTEXT,\\n\\t\"superstructure\"\\tTEXT\\n)'),\n",
       " ('table', 'household_demographics', 'household_demographics', 109183, 'CREATE TABLE \"household_demographics\" (\\n\\t\"household_id\"\\tREAL,\\n\\t\"gender_household_head\"\\tTEXT,\\n\\t\"age_household_head\"\\tREAL,\\n\\t\"caste_household ... (15 characters truncated) ... ucation_level_household_head\"\\tTEXT,\\n\\t\"income_level_household\"\\tTEXT,\\n\\t\"size_household\"\\tREAL,\\n\\t\"is_bank_account_present_in_household\"\\tREAL\\n)'),\n",
       " ('table', 'id_map', 'id_map', 3, 'CREATE TABLE \"id_map\" (\\n\\t\"building_id\"\\tREAL,\\n\\t\"district_id\"\\tINTEGER,\\n\\t\"vdcmun_id\"\\tINTEGER,\\n\\t\"household_id\"\\tTEXT\\n)')]"
      ]
     },
     "execution_count": 92,
     "metadata": {},
     "output_type": "execute_result"
    }
   ],
   "source": [
    "%%sql\n",
    "select *\n",
    "from sqlite_schema"
   ]
  },
  {
   "cell_type": "code",
   "execution_count": 93,
   "id": "5c84ff6e-774e-4de5-86ee-fe3d8189c8b7",
   "metadata": {},
   "outputs": [
    {
     "name": "stdout",
     "output_type": "stream",
     "text": [
      " * sqlite:///nepal_eq.db\n",
      "Done.\n"
     ]
    },
    {
     "data": {
      "text/html": [
       "<table>\n",
       "    <thead>\n",
       "        <tr>\n",
       "            <th>name</th>\n",
       "        </tr>\n",
       "    </thead>\n",
       "    <tbody>\n",
       "        <tr>\n",
       "            <td>building_damage</td>\n",
       "        </tr>\n",
       "        <tr>\n",
       "            <td>building_structure</td>\n",
       "        </tr>\n",
       "        <tr>\n",
       "            <td>household_demographics</td>\n",
       "        </tr>\n",
       "        <tr>\n",
       "            <td>id_map</td>\n",
       "        </tr>\n",
       "    </tbody>\n",
       "</table>"
      ],
      "text/plain": [
       "[('building_damage',),\n",
       " ('building_structure',),\n",
       " ('household_demographics',),\n",
       " ('id_map',)]"
      ]
     },
     "execution_count": 93,
     "metadata": {},
     "output_type": "execute_result"
    }
   ],
   "source": [
    "%%sql\n",
    "select name from sqlite_schema\n",
    "where type = 'table'"
   ]
  },
  {
   "cell_type": "code",
   "execution_count": 63,
   "id": "af0ed24d-6141-46c7-a532-1aafedc5a2f7",
   "metadata": {},
   "outputs": [
    {
     "name": "stdout",
     "output_type": "stream",
     "text": [
      " * sqlite:///nepal_eq.db\n",
      "Done.\n"
     ]
    },
    {
     "data": {
      "text/html": [
       "<table>\n",
       "    <thead>\n",
       "        <tr>\n",
       "            <th>building_id</th>\n",
       "            <th>district_id</th>\n",
       "            <th>vdcmun_id</th>\n",
       "            <th>household_id</th>\n",
       "        </tr>\n",
       "    </thead>\n",
       "    <tbody>\n",
       "        <tr>\n",
       "            <td>120101000011.0</td>\n",
       "            <td>12</td>\n",
       "            <td>1207</td>\n",
       "            <td>12010100001101.0</td>\n",
       "        </tr>\n",
       "        <tr>\n",
       "            <td>120101000021.0</td>\n",
       "            <td>12</td>\n",
       "            <td>1207</td>\n",
       "            <td>12010100002101.0</td>\n",
       "        </tr>\n",
       "        <tr>\n",
       "            <td>120101000031.0</td>\n",
       "            <td>12</td>\n",
       "            <td>1207</td>\n",
       "            <td>12010100003101.0</td>\n",
       "        </tr>\n",
       "        <tr>\n",
       "            <td>120101000041.0</td>\n",
       "            <td>12</td>\n",
       "            <td>1207</td>\n",
       "            <td>12010100004101.0</td>\n",
       "        </tr>\n",
       "        <tr>\n",
       "            <td>120101000051.0</td>\n",
       "            <td>12</td>\n",
       "            <td>1207</td>\n",
       "            <td>12010100005101.0</td>\n",
       "        </tr>\n",
       "    </tbody>\n",
       "</table>"
      ],
      "text/plain": [
       "[(120101000011.0, 12, 1207, '12010100001101.0'),\n",
       " (120101000021.0, 12, 1207, '12010100002101.0'),\n",
       " (120101000031.0, 12, 1207, '12010100003101.0'),\n",
       " (120101000041.0, 12, 1207, '12010100004101.0'),\n",
       " (120101000051.0, 12, 1207, '12010100005101.0')]"
      ]
     },
     "execution_count": 63,
     "metadata": {},
     "output_type": "execute_result"
    }
   ],
   "source": [
    "%%sql\n",
    "select *\n",
    "from id_map \n",
    "limit 5"
   ]
  },
  {
   "cell_type": "code",
   "execution_count": 64,
   "id": "ede73479-d308-46ae-b9ec-e4fafc7d5076",
   "metadata": {},
   "outputs": [
    {
     "name": "stdout",
     "output_type": "stream",
     "text": [
      " * sqlite:///nepal_eq.db\n",
      "Done.\n"
     ]
    },
    {
     "data": {
      "text/html": [
       "<table>\n",
       "    <thead>\n",
       "        <tr>\n",
       "            <th>count (*)</th>\n",
       "        </tr>\n",
       "    </thead>\n",
       "    <tbody>\n",
       "        <tr>\n",
       "            <td>818786</td>\n",
       "        </tr>\n",
       "    </tbody>\n",
       "</table>"
      ],
      "text/plain": [
       "[(818786,)]"
      ]
     },
     "execution_count": 64,
     "metadata": {},
     "output_type": "execute_result"
    }
   ],
   "source": [
    "%%sql\n",
    "select count (*)\n",
    "from id_map"
   ]
  },
  {
   "cell_type": "code",
   "execution_count": 94,
   "id": "54634fd6-20a8-4528-ba5e-3d3c762eed22",
   "metadata": {},
   "outputs": [
    {
     "name": "stdout",
     "output_type": "stream",
     "text": [
      " * sqlite:///nepal_eq.db\n",
      "Done.\n"
     ]
    },
    {
     "data": {
      "text/html": [
       "<table>\n",
       "    <thead>\n",
       "        <tr>\n",
       "            <th>district_id</th>\n",
       "        </tr>\n",
       "    </thead>\n",
       "    <tbody>\n",
       "        <tr>\n",
       "            <td>12</td>\n",
       "        </tr>\n",
       "        <tr>\n",
       "            <td>20</td>\n",
       "        </tr>\n",
       "        <tr>\n",
       "            <td>21</td>\n",
       "        </tr>\n",
       "        <tr>\n",
       "            <td>22</td>\n",
       "        </tr>\n",
       "        <tr>\n",
       "            <td>23</td>\n",
       "        </tr>\n",
       "        <tr>\n",
       "            <td>24</td>\n",
       "        </tr>\n",
       "        <tr>\n",
       "            <td>28</td>\n",
       "        </tr>\n",
       "        <tr>\n",
       "            <td>29</td>\n",
       "        </tr>\n",
       "        <tr>\n",
       "            <td>30</td>\n",
       "        </tr>\n",
       "        <tr>\n",
       "            <td>31</td>\n",
       "        </tr>\n",
       "        <tr>\n",
       "            <td>36</td>\n",
       "        </tr>\n",
       "    </tbody>\n",
       "</table>"
      ],
      "text/plain": [
       "[(12,), (20,), (21,), (22,), (23,), (24,), (28,), (29,), (30,), (31,), (36,)]"
      ]
     },
     "execution_count": 94,
     "metadata": {},
     "output_type": "execute_result"
    }
   ],
   "source": [
    "%%sql\n",
    "select distinct (district_id)\n",
    "from id_map\n"
   ]
  },
  {
   "cell_type": "code",
   "execution_count": 66,
   "id": "8a291324-3d86-41bc-98fe-f03b1435dc6f",
   "metadata": {},
   "outputs": [
    {
     "name": "stdout",
     "output_type": "stream",
     "text": [
      " * sqlite:///nepal_eq.db\n",
      "Done.\n"
     ]
    },
    {
     "data": {
      "text/html": [
       "<table>\n",
       "    <thead>\n",
       "        <tr>\n",
       "            <th>count(distinct(building_id))</th>\n",
       "        </tr>\n",
       "    </thead>\n",
       "    <tbody>\n",
       "        <tr>\n",
       "            <td>762106</td>\n",
       "        </tr>\n",
       "    </tbody>\n",
       "</table>"
      ],
      "text/plain": [
       "[(762106,)]"
      ]
     },
     "execution_count": 66,
     "metadata": {},
     "output_type": "execute_result"
    }
   ],
   "source": [
    "%%sql\n",
    "select count(distinct(building_id))\n",
    "from id_map"
   ]
  },
  {
   "cell_type": "code",
   "execution_count": 67,
   "id": "6397a11b-974a-4262-98ba-7107f13221b3",
   "metadata": {},
   "outputs": [
    {
     "name": "stdout",
     "output_type": "stream",
     "text": [
      " * sqlite:///nepal_eq.db\n",
      "Done.\n"
     ]
    },
    {
     "data": {
      "text/html": [
       "<table>\n",
       "    <thead>\n",
       "        <tr>\n",
       "            <th>building_id</th>\n",
       "            <th>district_id</th>\n",
       "            <th>vdcmun_id</th>\n",
       "            <th>household_id</th>\n",
       "        </tr>\n",
       "    </thead>\n",
       "    <tbody>\n",
       "        <tr>\n",
       "            <td>360106001171.0</td>\n",
       "            <td>36</td>\n",
       "            <td>3609</td>\n",
       "            <td>None</td>\n",
       "        </tr>\n",
       "        <tr>\n",
       "            <td>360106001181.0</td>\n",
       "            <td>36</td>\n",
       "            <td>3609</td>\n",
       "            <td>36010600118101.0</td>\n",
       "        </tr>\n",
       "        <tr>\n",
       "            <td>360107000161.0</td>\n",
       "            <td>36</td>\n",
       "            <td>3609</td>\n",
       "            <td>36010700016101.0</td>\n",
       "        </tr>\n",
       "        <tr>\n",
       "            <td>360107000381.0</td>\n",
       "            <td>36</td>\n",
       "            <td>3609</td>\n",
       "            <td>36010700038101.0</td>\n",
       "        </tr>\n",
       "        <tr>\n",
       "            <td>360202000691.0</td>\n",
       "            <td>36</td>\n",
       "            <td>3601</td>\n",
       "            <td>None</td>\n",
       "        </tr>\n",
       "    </tbody>\n",
       "</table>"
      ],
      "text/plain": [
       "[(360106001171.0, 36, 3609, None),\n",
       " (360106001181.0, 36, 3609, '36010600118101.0'),\n",
       " (360107000161.0, 36, 3609, '36010700016101.0'),\n",
       " (360107000381.0, 36, 3609, '36010700038101.0'),\n",
       " (360202000691.0, 36, 3601, None)]"
      ]
     },
     "execution_count": 67,
     "metadata": {},
     "output_type": "execute_result"
    }
   ],
   "source": [
    "%%sql\n",
    "select *\n",
    "from id_map\n",
    "where district_id = 36\n",
    "limit 5"
   ]
  },
  {
   "cell_type": "code",
   "execution_count": 68,
   "id": "2a77090d-7641-43eb-a347-0d35331ac1d9",
   "metadata": {},
   "outputs": [
    {
     "name": "stdout",
     "output_type": "stream",
     "text": [
      " * sqlite:///nepal_eq.db\n",
      "Done.\n"
     ]
    },
    {
     "data": {
      "text/html": [
       "<table>\n",
       "    <thead>\n",
       "        <tr>\n",
       "            <th>count(distinct(building_id))</th>\n",
       "        </tr>\n",
       "    </thead>\n",
       "    <tbody>\n",
       "        <tr>\n",
       "            <td>78074</td>\n",
       "        </tr>\n",
       "    </tbody>\n",
       "</table>"
      ],
      "text/plain": [
       "[(78074,)]"
      ]
     },
     "execution_count": 68,
     "metadata": {},
     "output_type": "execute_result"
    }
   ],
   "source": [
    "%%sql\n",
    "select count(distinct(building_id))\n",
    "from id_map\n",
    "where district_id = 36"
   ]
  },
  {
   "cell_type": "code",
   "execution_count": 69,
   "id": "f57c049b-8986-4a28-8d57-287224388cae",
   "metadata": {},
   "outputs": [
    {
     "name": "stdout",
     "output_type": "stream",
     "text": [
      " * sqlite:///nepal_eq.db\n",
      "Done.\n"
     ]
    },
    {
     "data": {
      "text/html": [
       "<table>\n",
       "    <thead>\n",
       "        <tr>\n",
       "            <th>age_building</th>\n",
       "            <th>building_id</th>\n",
       "            <th>condition_post_eq</th>\n",
       "            <th>count_floors_post_eq</th>\n",
       "            <th>count_floors_pre_eq</th>\n",
       "            <th>foundation_type</th>\n",
       "            <th>ground_floor_type</th>\n",
       "            <th>height_ft_post_eq</th>\n",
       "            <th>height_ft_pre_eq</th>\n",
       "            <th>land_surface_condition</th>\n",
       "            <th>other_floor_type</th>\n",
       "            <th>plan_configuration</th>\n",
       "            <th>plinth_area_sq_ft</th>\n",
       "            <th>position</th>\n",
       "            <th>roof_type</th>\n",
       "            <th>superstructure</th>\n",
       "        </tr>\n",
       "    </thead>\n",
       "    <tbody>\n",
       "        <tr>\n",
       "            <td>9</td>\n",
       "            <td>120101000011.0</td>\n",
       "            <td>Damaged-Used in risk</td>\n",
       "            <td>1</td>\n",
       "            <td>1</td>\n",
       "            <td>Other</td>\n",
       "            <td>Mud</td>\n",
       "            <td>9</td>\n",
       "            <td>9</td>\n",
       "            <td>Flat</td>\n",
       "            <td>Not applicable</td>\n",
       "            <td>Rectangular</td>\n",
       "            <td>288</td>\n",
       "            <td>Not attached</td>\n",
       "            <td>Bamboo/Timber-Light roof</td>\n",
       "            <td>mud_mortar_stone</td>\n",
       "        </tr>\n",
       "        <tr>\n",
       "            <td>15</td>\n",
       "            <td>120101000021.0</td>\n",
       "            <td>Damaged-Repaired and used</td>\n",
       "            <td>1</td>\n",
       "            <td>1</td>\n",
       "            <td>Other</td>\n",
       "            <td>Mud</td>\n",
       "            <td>9</td>\n",
       "            <td>9</td>\n",
       "            <td>Flat</td>\n",
       "            <td>Not applicable</td>\n",
       "            <td>Rectangular</td>\n",
       "            <td>364</td>\n",
       "            <td>Not attached</td>\n",
       "            <td>Bamboo/Timber-Light roof</td>\n",
       "            <td>mud_mortar_stone</td>\n",
       "        </tr>\n",
       "        <tr>\n",
       "            <td>20</td>\n",
       "            <td>120101000031.0</td>\n",
       "            <td>Damaged-Repaired and used</td>\n",
       "            <td>1</td>\n",
       "            <td>1</td>\n",
       "            <td>Other</td>\n",
       "            <td>Mud</td>\n",
       "            <td>9</td>\n",
       "            <td>9</td>\n",
       "            <td>Flat</td>\n",
       "            <td>Not applicable</td>\n",
       "            <td>Rectangular</td>\n",
       "            <td>384</td>\n",
       "            <td>Not attached</td>\n",
       "            <td>Bamboo/Timber-Light roof</td>\n",
       "            <td>mud_mortar_stone</td>\n",
       "        </tr>\n",
       "        <tr>\n",
       "            <td>20</td>\n",
       "            <td>120101000041.0</td>\n",
       "            <td>Damaged-Repaired and used</td>\n",
       "            <td>1</td>\n",
       "            <td>1</td>\n",
       "            <td>Other</td>\n",
       "            <td>Mud</td>\n",
       "            <td>9</td>\n",
       "            <td>9</td>\n",
       "            <td>Flat</td>\n",
       "            <td>Not applicable</td>\n",
       "            <td>Rectangular</td>\n",
       "            <td>312</td>\n",
       "            <td>Not attached</td>\n",
       "            <td>Bamboo/Timber-Light roof</td>\n",
       "            <td>mud_mortar_stone</td>\n",
       "        </tr>\n",
       "        <tr>\n",
       "            <td>30</td>\n",
       "            <td>120101000051.0</td>\n",
       "            <td>Damaged-Repaired and used</td>\n",
       "            <td>1</td>\n",
       "            <td>1</td>\n",
       "            <td>Other</td>\n",
       "            <td>Mud</td>\n",
       "            <td>9</td>\n",
       "            <td>9</td>\n",
       "            <td>Flat</td>\n",
       "            <td>Not applicable</td>\n",
       "            <td>Rectangular</td>\n",
       "            <td>308</td>\n",
       "            <td>Not attached</td>\n",
       "            <td>Bamboo/Timber-Light roof</td>\n",
       "            <td>mud_mortar_stone</td>\n",
       "        </tr>\n",
       "    </tbody>\n",
       "</table>"
      ],
      "text/plain": [
       "[(9, 120101000011.0, 'Damaged-Used in risk', 1, 1, 'Other', 'Mud', 9, 9, 'Flat', 'Not applicable', 'Rectangular', 288, 'Not attached', 'Bamboo/Timber-Light roof', 'mud_mortar_stone'),\n",
       " (15, 120101000021.0, 'Damaged-Repaired and used', 1, 1, 'Other', 'Mud', 9, 9, 'Flat', 'Not applicable', 'Rectangular', 364, 'Not attached', 'Bamboo/Timber-Light roof', 'mud_mortar_stone'),\n",
       " (20, 120101000031.0, 'Damaged-Repaired and used', 1, 1, 'Other', 'Mud', 9, 9, 'Flat', 'Not applicable', 'Rectangular', 384, 'Not attached', 'Bamboo/Timber-Light roof', 'mud_mortar_stone'),\n",
       " (20, 120101000041.0, 'Damaged-Repaired and used', 1, 1, 'Other', 'Mud', 9, 9, 'Flat', 'Not applicable', 'Rectangular', 312, 'Not attached', 'Bamboo/Timber-Light roof', 'mud_mortar_stone'),\n",
       " (30, 120101000051.0, 'Damaged-Repaired and used', 1, 1, 'Other', 'Mud', 9, 9, 'Flat', 'Not applicable', 'Rectangular', 308, 'Not attached', 'Bamboo/Timber-Light roof', 'mud_mortar_stone')]"
      ]
     },
     "execution_count": 69,
     "metadata": {},
     "output_type": "execute_result"
    }
   ],
   "source": [
    "%%sql\n",
    "select *\n",
    "from building_structure\n",
    "limit 5"
   ]
  },
  {
   "cell_type": "code",
   "execution_count": 70,
   "id": "eb6d890c-761f-4cb4-bddb-5d4f0e59e23b",
   "metadata": {},
   "outputs": [
    {
     "name": "stdout",
     "output_type": "stream",
     "text": [
      " * sqlite:///nepal_eq.db\n",
      "Done.\n"
     ]
    },
    {
     "data": {
      "text/html": [
       "<table>\n",
       "    <thead>\n",
       "        <tr>\n",
       "            <th>count(building_id)</th>\n",
       "        </tr>\n",
       "    </thead>\n",
       "    <tbody>\n",
       "        <tr>\n",
       "            <td>762106</td>\n",
       "        </tr>\n",
       "    </tbody>\n",
       "</table>"
      ],
      "text/plain": [
       "[(762106,)]"
      ]
     },
     "execution_count": 70,
     "metadata": {},
     "output_type": "execute_result"
    }
   ],
   "source": [
    "%%sql\n",
    "select count(building_id)\n",
    "from building_structure\n"
   ]
  },
  {
   "cell_type": "code",
   "execution_count": 71,
   "id": "adcd39f3-26a4-4425-b28d-618176c46070",
   "metadata": {},
   "outputs": [
    {
     "name": "stdout",
     "output_type": "stream",
     "text": [
      " * sqlite:///nepal_eq.db\n",
      "Done.\n"
     ]
    },
    {
     "data": {
      "text/html": [
       "<table>\n",
       "    <thead>\n",
       "        <tr>\n",
       "            <th>building_id</th>\n",
       "            <th>district_id</th>\n",
       "            <th>vdcmun_id</th>\n",
       "            <th>household_id</th>\n",
       "            <th>age_building</th>\n",
       "            <th>building_id_1</th>\n",
       "            <th>condition_post_eq</th>\n",
       "            <th>count_floors_post_eq</th>\n",
       "            <th>count_floors_pre_eq</th>\n",
       "            <th>foundation_type</th>\n",
       "            <th>ground_floor_type</th>\n",
       "            <th>height_ft_post_eq</th>\n",
       "            <th>height_ft_pre_eq</th>\n",
       "            <th>land_surface_condition</th>\n",
       "            <th>other_floor_type</th>\n",
       "            <th>plan_configuration</th>\n",
       "            <th>plinth_area_sq_ft</th>\n",
       "            <th>position</th>\n",
       "            <th>roof_type</th>\n",
       "            <th>superstructure</th>\n",
       "        </tr>\n",
       "    </thead>\n",
       "    <tbody>\n",
       "        <tr>\n",
       "            <td>360106001171.0</td>\n",
       "            <td>36</td>\n",
       "            <td>3609</td>\n",
       "            <td>None</td>\n",
       "            <td>4</td>\n",
       "            <td>360106001171.0</td>\n",
       "            <td>Damaged-Rubble unclear</td>\n",
       "            <td>0</td>\n",
       "            <td>2</td>\n",
       "            <td>Mud mortar-Stone/Brick</td>\n",
       "            <td>Mud</td>\n",
       "            <td>0</td>\n",
       "            <td>18</td>\n",
       "            <td>Flat</td>\n",
       "            <td>TImber/Bamboo-Mud</td>\n",
       "            <td>Rectangular</td>\n",
       "            <td>280</td>\n",
       "            <td>Not attached</td>\n",
       "            <td>Bamboo/Timber-Light roof</td>\n",
       "            <td>mud_mortar_stone</td>\n",
       "        </tr>\n",
       "        <tr>\n",
       "            <td>360106001181.0</td>\n",
       "            <td>36</td>\n",
       "            <td>3609</td>\n",
       "            <td>36010600118101.0</td>\n",
       "            <td>15</td>\n",
       "            <td>360106001181.0</td>\n",
       "            <td>Damaged-Rubble unclear</td>\n",
       "            <td>0</td>\n",
       "            <td>1</td>\n",
       "            <td>Mud mortar-Stone/Brick</td>\n",
       "            <td>Mud</td>\n",
       "            <td>0</td>\n",
       "            <td>18</td>\n",
       "            <td>Flat</td>\n",
       "            <td>Not applicable</td>\n",
       "            <td>Rectangular</td>\n",
       "            <td>120</td>\n",
       "            <td>Attached-1 side</td>\n",
       "            <td>Bamboo/Timber-Light roof</td>\n",
       "            <td>mud_mortar_stone</td>\n",
       "        </tr>\n",
       "        <tr>\n",
       "            <td>360107000161.0</td>\n",
       "            <td>36</td>\n",
       "            <td>3609</td>\n",
       "            <td>36010700016101.0</td>\n",
       "            <td>25</td>\n",
       "            <td>360107000161.0</td>\n",
       "            <td>Damaged-Rubble unclear</td>\n",
       "            <td>0</td>\n",
       "            <td>2</td>\n",
       "            <td>Mud mortar-Stone/Brick</td>\n",
       "            <td>Mud</td>\n",
       "            <td>0</td>\n",
       "            <td>14</td>\n",
       "            <td>Flat</td>\n",
       "            <td>TImber/Bamboo-Mud</td>\n",
       "            <td>Rectangular</td>\n",
       "            <td>300</td>\n",
       "            <td>Not attached</td>\n",
       "            <td>Bamboo/Timber-Light roof</td>\n",
       "            <td>mud_mortar_stone</td>\n",
       "        </tr>\n",
       "        <tr>\n",
       "            <td>360107000381.0</td>\n",
       "            <td>36</td>\n",
       "            <td>3609</td>\n",
       "            <td>36010700038101.0</td>\n",
       "            <td>22</td>\n",
       "            <td>360107000381.0</td>\n",
       "            <td>Damaged-Rubble clear</td>\n",
       "            <td>0</td>\n",
       "            <td>2</td>\n",
       "            <td>Mud mortar-Stone/Brick</td>\n",
       "            <td>Mud</td>\n",
       "            <td>0</td>\n",
       "            <td>16</td>\n",
       "            <td>Flat</td>\n",
       "            <td>TImber/Bamboo-Mud</td>\n",
       "            <td>Rectangular</td>\n",
       "            <td>155</td>\n",
       "            <td>Not attached</td>\n",
       "            <td>Bamboo/Timber-Light roof</td>\n",
       "            <td>mud_mortar_stone</td>\n",
       "        </tr>\n",
       "    </tbody>\n",
       "</table>"
      ],
      "text/plain": [
       "[(360106001171.0, 36, 3609, None, 4, 360106001171.0, 'Damaged-Rubble unclear', 0, 2, 'Mud mortar-Stone/Brick', 'Mud', 0, 18, 'Flat', 'TImber/Bamboo-Mud', 'Rectangular', 280, 'Not attached', 'Bamboo/Timber-Light roof', 'mud_mortar_stone'),\n",
       " (360106001181.0, 36, 3609, '36010600118101.0', 15, 360106001181.0, 'Damaged-Rubble unclear', 0, 1, 'Mud mortar-Stone/Brick', 'Mud', 0, 18, 'Flat', 'Not applicable', 'Rectangular', 120, 'Attached-1 side', 'Bamboo/Timber-Light roof', 'mud_mortar_stone'),\n",
       " (360107000161.0, 36, 3609, '36010700016101.0', 25, 360107000161.0, 'Damaged-Rubble unclear', 0, 2, 'Mud mortar-Stone/Brick', 'Mud', 0, 14, 'Flat', 'TImber/Bamboo-Mud', 'Rectangular', 300, 'Not attached', 'Bamboo/Timber-Light roof', 'mud_mortar_stone'),\n",
       " (360107000381.0, 36, 3609, '36010700038101.0', 22, 360107000381.0, 'Damaged-Rubble clear', 0, 2, 'Mud mortar-Stone/Brick', 'Mud', 0, 16, 'Flat', 'TImber/Bamboo-Mud', 'Rectangular', 155, 'Not attached', 'Bamboo/Timber-Light roof', 'mud_mortar_stone')]"
      ]
     },
     "execution_count": 71,
     "metadata": {},
     "output_type": "execute_result"
    }
   ],
   "source": [
    "%%sql\n",
    "select *\n",
    "from id_map\n",
    "join building_structure on id_map.building_id = building_structure.building_id\n",
    "where id_map.district_id = 36\n",
    "limit 4\n"
   ]
  },
  {
   "cell_type": "code",
   "execution_count": 72,
   "id": "7256c338-7bb8-4295-a24c-fcfa21ab1894",
   "metadata": {},
   "outputs": [
    {
     "name": "stdout",
     "output_type": "stream",
     "text": [
      " * sqlite:///nepal_eq.db\n",
      "Done.\n"
     ]
    },
    {
     "data": {
      "text/html": [
       "<table>\n",
       "    <thead>\n",
       "        <tr>\n",
       "            <th>building_id</th>\n",
       "            <th>age_building</th>\n",
       "            <th>building_id_1</th>\n",
       "            <th>condition_post_eq</th>\n",
       "            <th>count_floors_post_eq</th>\n",
       "            <th>count_floors_pre_eq</th>\n",
       "            <th>foundation_type</th>\n",
       "            <th>ground_floor_type</th>\n",
       "            <th>height_ft_post_eq</th>\n",
       "            <th>height_ft_pre_eq</th>\n",
       "            <th>land_surface_condition</th>\n",
       "            <th>other_floor_type</th>\n",
       "            <th>plan_configuration</th>\n",
       "            <th>plinth_area_sq_ft</th>\n",
       "            <th>position</th>\n",
       "            <th>roof_type</th>\n",
       "            <th>superstructure</th>\n",
       "        </tr>\n",
       "    </thead>\n",
       "    <tbody>\n",
       "        <tr>\n",
       "            <td>360106001171.0</td>\n",
       "            <td>4</td>\n",
       "            <td>360106001171.0</td>\n",
       "            <td>Damaged-Rubble unclear</td>\n",
       "            <td>0</td>\n",
       "            <td>2</td>\n",
       "            <td>Mud mortar-Stone/Brick</td>\n",
       "            <td>Mud</td>\n",
       "            <td>0</td>\n",
       "            <td>18</td>\n",
       "            <td>Flat</td>\n",
       "            <td>TImber/Bamboo-Mud</td>\n",
       "            <td>Rectangular</td>\n",
       "            <td>280</td>\n",
       "            <td>Not attached</td>\n",
       "            <td>Bamboo/Timber-Light roof</td>\n",
       "            <td>mud_mortar_stone</td>\n",
       "        </tr>\n",
       "        <tr>\n",
       "            <td>360106001181.0</td>\n",
       "            <td>15</td>\n",
       "            <td>360106001181.0</td>\n",
       "            <td>Damaged-Rubble unclear</td>\n",
       "            <td>0</td>\n",
       "            <td>1</td>\n",
       "            <td>Mud mortar-Stone/Brick</td>\n",
       "            <td>Mud</td>\n",
       "            <td>0</td>\n",
       "            <td>18</td>\n",
       "            <td>Flat</td>\n",
       "            <td>Not applicable</td>\n",
       "            <td>Rectangular</td>\n",
       "            <td>120</td>\n",
       "            <td>Attached-1 side</td>\n",
       "            <td>Bamboo/Timber-Light roof</td>\n",
       "            <td>mud_mortar_stone</td>\n",
       "        </tr>\n",
       "        <tr>\n",
       "            <td>360107000161.0</td>\n",
       "            <td>25</td>\n",
       "            <td>360107000161.0</td>\n",
       "            <td>Damaged-Rubble unclear</td>\n",
       "            <td>0</td>\n",
       "            <td>2</td>\n",
       "            <td>Mud mortar-Stone/Brick</td>\n",
       "            <td>Mud</td>\n",
       "            <td>0</td>\n",
       "            <td>14</td>\n",
       "            <td>Flat</td>\n",
       "            <td>TImber/Bamboo-Mud</td>\n",
       "            <td>Rectangular</td>\n",
       "            <td>300</td>\n",
       "            <td>Not attached</td>\n",
       "            <td>Bamboo/Timber-Light roof</td>\n",
       "            <td>mud_mortar_stone</td>\n",
       "        </tr>\n",
       "        <tr>\n",
       "            <td>360107000381.0</td>\n",
       "            <td>22</td>\n",
       "            <td>360107000381.0</td>\n",
       "            <td>Damaged-Rubble clear</td>\n",
       "            <td>0</td>\n",
       "            <td>2</td>\n",
       "            <td>Mud mortar-Stone/Brick</td>\n",
       "            <td>Mud</td>\n",
       "            <td>0</td>\n",
       "            <td>16</td>\n",
       "            <td>Flat</td>\n",
       "            <td>TImber/Bamboo-Mud</td>\n",
       "            <td>Rectangular</td>\n",
       "            <td>155</td>\n",
       "            <td>Not attached</td>\n",
       "            <td>Bamboo/Timber-Light roof</td>\n",
       "            <td>mud_mortar_stone</td>\n",
       "        </tr>\n",
       "        <tr>\n",
       "            <td>360202000691.0</td>\n",
       "            <td>20</td>\n",
       "            <td>360202000691.0</td>\n",
       "            <td>Damaged-Rubble unclear</td>\n",
       "            <td>0</td>\n",
       "            <td>2</td>\n",
       "            <td>Mud mortar-Stone/Brick</td>\n",
       "            <td>Brick/Stone</td>\n",
       "            <td>0</td>\n",
       "            <td>14</td>\n",
       "            <td>Flat</td>\n",
       "            <td>TImber/Bamboo-Mud</td>\n",
       "            <td>Rectangular</td>\n",
       "            <td>240</td>\n",
       "            <td>Attached-1 side</td>\n",
       "            <td>Bamboo/Timber-Heavy roof</td>\n",
       "            <td>mud_mortar_stone</td>\n",
       "        </tr>\n",
       "    </tbody>\n",
       "</table>"
      ],
      "text/plain": [
       "[(360106001171.0, 4, 360106001171.0, 'Damaged-Rubble unclear', 0, 2, 'Mud mortar-Stone/Brick', 'Mud', 0, 18, 'Flat', 'TImber/Bamboo-Mud', 'Rectangular', 280, 'Not attached', 'Bamboo/Timber-Light roof', 'mud_mortar_stone'),\n",
       " (360106001181.0, 15, 360106001181.0, 'Damaged-Rubble unclear', 0, 1, 'Mud mortar-Stone/Brick', 'Mud', 0, 18, 'Flat', 'Not applicable', 'Rectangular', 120, 'Attached-1 side', 'Bamboo/Timber-Light roof', 'mud_mortar_stone'),\n",
       " (360107000161.0, 25, 360107000161.0, 'Damaged-Rubble unclear', 0, 2, 'Mud mortar-Stone/Brick', 'Mud', 0, 14, 'Flat', 'TImber/Bamboo-Mud', 'Rectangular', 300, 'Not attached', 'Bamboo/Timber-Light roof', 'mud_mortar_stone'),\n",
       " (360107000381.0, 22, 360107000381.0, 'Damaged-Rubble clear', 0, 2, 'Mud mortar-Stone/Brick', 'Mud', 0, 16, 'Flat', 'TImber/Bamboo-Mud', 'Rectangular', 155, 'Not attached', 'Bamboo/Timber-Light roof', 'mud_mortar_stone'),\n",
       " (360202000691.0, 20, 360202000691.0, 'Damaged-Rubble unclear', 0, 2, 'Mud mortar-Stone/Brick', 'Brick/Stone', 0, 14, 'Flat', 'TImber/Bamboo-Mud', 'Rectangular', 240, 'Attached-1 side', 'Bamboo/Timber-Heavy roof', 'mud_mortar_stone')]"
      ]
     },
     "execution_count": 72,
     "metadata": {},
     "output_type": "execute_result"
    }
   ],
   "source": [
    "%%sql\n",
    "select distinct(id_map.building_id), building_structure.*\n",
    "from id_map\n",
    "join building_structure on id_map.building_id = building_structure.building_id\n",
    "where id_map.district_id = 36\n",
    "limit 5"
   ]
  },
  {
   "cell_type": "code",
   "execution_count": 76,
   "id": "2a689b3b-af24-4851-ad11-fed24264ceac",
   "metadata": {},
   "outputs": [
    {
     "name": "stdout",
     "output_type": "stream",
     "text": [
      " * sqlite:///nepal_eq.db\n",
      "Done.\n"
     ]
    },
    {
     "data": {
      "text/html": [
       "<table>\n",
       "    <thead>\n",
       "        <tr>\n",
       "            <th>damage_grade</th>\n",
       "        </tr>\n",
       "    </thead>\n",
       "    <tbody>\n",
       "        <tr>\n",
       "            <td>Grade 3</td>\n",
       "        </tr>\n",
       "        <tr>\n",
       "            <td>Grade 5</td>\n",
       "        </tr>\n",
       "        <tr>\n",
       "            <td>Grade 2</td>\n",
       "        </tr>\n",
       "        <tr>\n",
       "            <td>Grade 1</td>\n",
       "        </tr>\n",
       "        <tr>\n",
       "            <td>Grade 4</td>\n",
       "        </tr>\n",
       "        <tr>\n",
       "            <td>None</td>\n",
       "        </tr>\n",
       "    </tbody>\n",
       "</table>"
      ],
      "text/plain": [
       "[('Grade 3',), ('Grade 5',), ('Grade 2',), ('Grade 1',), ('Grade 4',), (None,)]"
      ]
     },
     "execution_count": 76,
     "metadata": {},
     "output_type": "execute_result"
    }
   ],
   "source": [
    "%%sql\n",
    "select distinct(damage_grade)\n",
    "from building_damage\n"
   ]
  },
  {
   "cell_type": "code",
   "execution_count": 79,
   "id": "f179b717-d47a-4194-ad7a-f3be8515ca71",
   "metadata": {},
   "outputs": [
    {
     "name": "stdout",
     "output_type": "stream",
     "text": [
      " * sqlite:///nepal_eq.db\n",
      "Done.\n"
     ]
    },
    {
     "data": {
      "text/html": [
       "<table>\n",
       "    <thead>\n",
       "        <tr>\n",
       "            <th>building_id</th>\n",
       "            <th>age_building</th>\n",
       "            <th>building_id_1</th>\n",
       "            <th>condition_post_eq</th>\n",
       "            <th>count_floors_post_eq</th>\n",
       "            <th>count_floors_pre_eq</th>\n",
       "            <th>foundation_type</th>\n",
       "            <th>ground_floor_type</th>\n",
       "            <th>height_ft_post_eq</th>\n",
       "            <th>height_ft_pre_eq</th>\n",
       "            <th>land_surface_condition</th>\n",
       "            <th>other_floor_type</th>\n",
       "            <th>plan_configuration</th>\n",
       "            <th>plinth_area_sq_ft</th>\n",
       "            <th>position</th>\n",
       "            <th>roof_type</th>\n",
       "            <th>superstructure</th>\n",
       "            <th>building_id_2</th>\n",
       "        </tr>\n",
       "    </thead>\n",
       "    <tbody>\n",
       "        <tr>\n",
       "            <td>360106001171.0</td>\n",
       "            <td>4</td>\n",
       "            <td>360106001171.0</td>\n",
       "            <td>Damaged-Rubble unclear</td>\n",
       "            <td>0</td>\n",
       "            <td>2</td>\n",
       "            <td>Mud mortar-Stone/Brick</td>\n",
       "            <td>Mud</td>\n",
       "            <td>0</td>\n",
       "            <td>18</td>\n",
       "            <td>Flat</td>\n",
       "            <td>TImber/Bamboo-Mud</td>\n",
       "            <td>Rectangular</td>\n",
       "            <td>280</td>\n",
       "            <td>Not attached</td>\n",
       "            <td>Bamboo/Timber-Light roof</td>\n",
       "            <td>mud_mortar_stone</td>\n",
       "            <td>360106001171.0</td>\n",
       "        </tr>\n",
       "        <tr>\n",
       "            <td>360106001181.0</td>\n",
       "            <td>15</td>\n",
       "            <td>360106001181.0</td>\n",
       "            <td>Damaged-Rubble unclear</td>\n",
       "            <td>0</td>\n",
       "            <td>1</td>\n",
       "            <td>Mud mortar-Stone/Brick</td>\n",
       "            <td>Mud</td>\n",
       "            <td>0</td>\n",
       "            <td>18</td>\n",
       "            <td>Flat</td>\n",
       "            <td>Not applicable</td>\n",
       "            <td>Rectangular</td>\n",
       "            <td>120</td>\n",
       "            <td>Attached-1 side</td>\n",
       "            <td>Bamboo/Timber-Light roof</td>\n",
       "            <td>mud_mortar_stone</td>\n",
       "            <td>360106001181.0</td>\n",
       "        </tr>\n",
       "        <tr>\n",
       "            <td>360107000161.0</td>\n",
       "            <td>25</td>\n",
       "            <td>360107000161.0</td>\n",
       "            <td>Damaged-Rubble unclear</td>\n",
       "            <td>0</td>\n",
       "            <td>2</td>\n",
       "            <td>Mud mortar-Stone/Brick</td>\n",
       "            <td>Mud</td>\n",
       "            <td>0</td>\n",
       "            <td>14</td>\n",
       "            <td>Flat</td>\n",
       "            <td>TImber/Bamboo-Mud</td>\n",
       "            <td>Rectangular</td>\n",
       "            <td>300</td>\n",
       "            <td>Not attached</td>\n",
       "            <td>Bamboo/Timber-Light roof</td>\n",
       "            <td>mud_mortar_stone</td>\n",
       "            <td>360107000161.0</td>\n",
       "        </tr>\n",
       "        <tr>\n",
       "            <td>360107000381.0</td>\n",
       "            <td>22</td>\n",
       "            <td>360107000381.0</td>\n",
       "            <td>Damaged-Rubble clear</td>\n",
       "            <td>0</td>\n",
       "            <td>2</td>\n",
       "            <td>Mud mortar-Stone/Brick</td>\n",
       "            <td>Mud</td>\n",
       "            <td>0</td>\n",
       "            <td>16</td>\n",
       "            <td>Flat</td>\n",
       "            <td>TImber/Bamboo-Mud</td>\n",
       "            <td>Rectangular</td>\n",
       "            <td>155</td>\n",
       "            <td>Not attached</td>\n",
       "            <td>Bamboo/Timber-Light roof</td>\n",
       "            <td>mud_mortar_stone</td>\n",
       "            <td>360107000381.0</td>\n",
       "        </tr>\n",
       "        <tr>\n",
       "            <td>360202000691.0</td>\n",
       "            <td>20</td>\n",
       "            <td>360202000691.0</td>\n",
       "            <td>Damaged-Rubble unclear</td>\n",
       "            <td>0</td>\n",
       "            <td>2</td>\n",
       "            <td>Mud mortar-Stone/Brick</td>\n",
       "            <td>Brick/Stone</td>\n",
       "            <td>0</td>\n",
       "            <td>14</td>\n",
       "            <td>Flat</td>\n",
       "            <td>TImber/Bamboo-Mud</td>\n",
       "            <td>Rectangular</td>\n",
       "            <td>240</td>\n",
       "            <td>Attached-1 side</td>\n",
       "            <td>Bamboo/Timber-Heavy roof</td>\n",
       "            <td>mud_mortar_stone</td>\n",
       "            <td>360202000691.0</td>\n",
       "        </tr>\n",
       "    </tbody>\n",
       "</table>"
      ],
      "text/plain": [
       "[(360106001171.0, 4, 360106001171.0, 'Damaged-Rubble unclear', 0, 2, 'Mud mortar-Stone/Brick', 'Mud', 0, 18, 'Flat', 'TImber/Bamboo-Mud', 'Rectangular', 280, 'Not attached', 'Bamboo/Timber-Light roof', 'mud_mortar_stone', 360106001171.0),\n",
       " (360106001181.0, 15, 360106001181.0, 'Damaged-Rubble unclear', 0, 1, 'Mud mortar-Stone/Brick', 'Mud', 0, 18, 'Flat', 'Not applicable', 'Rectangular', 120, 'Attached-1 side', 'Bamboo/Timber-Light roof', 'mud_mortar_stone', 360106001181.0),\n",
       " (360107000161.0, 25, 360107000161.0, 'Damaged-Rubble unclear', 0, 2, 'Mud mortar-Stone/Brick', 'Mud', 0, 14, 'Flat', 'TImber/Bamboo-Mud', 'Rectangular', 300, 'Not attached', 'Bamboo/Timber-Light roof', 'mud_mortar_stone', 360107000161.0),\n",
       " (360107000381.0, 22, 360107000381.0, 'Damaged-Rubble clear', 0, 2, 'Mud mortar-Stone/Brick', 'Mud', 0, 16, 'Flat', 'TImber/Bamboo-Mud', 'Rectangular', 155, 'Not attached', 'Bamboo/Timber-Light roof', 'mud_mortar_stone', 360107000381.0),\n",
       " (360202000691.0, 20, 360202000691.0, 'Damaged-Rubble unclear', 0, 2, 'Mud mortar-Stone/Brick', 'Brick/Stone', 0, 14, 'Flat', 'TImber/Bamboo-Mud', 'Rectangular', 240, 'Attached-1 side', 'Bamboo/Timber-Heavy roof', 'mud_mortar_stone', 360202000691.0)]"
      ]
     },
     "execution_count": 79,
     "metadata": {},
     "output_type": "execute_result"
    }
   ],
   "source": [
    "%%sql\n",
    "select distinct(id_map.building_id), building_structure.*, building_damage.building_id\n",
    "from id_map\n",
    "join building_structure on id_map.building_id = building_structure.building_id\n",
    "join building_damage on id_map.building_id = building_damage.building_id\n",
    "where id_map.district_id = 36\n",
    "limit 5"
   ]
  },
  {
   "cell_type": "code",
   "execution_count": 60,
   "id": "968e8ec3-f7d8-4786-9e07-dca55d85f795",
   "metadata": {},
   "outputs": [],
   "source": [
    "conn = sqlite3.connect(\"/Users/mac/Desktop/venv/Gomycode/nepal_eq.db\")"
   ]
  },
  {
   "cell_type": "code",
   "execution_count": 61,
   "id": "17586a89-1637-4110-908f-f2a377d6d11c",
   "metadata": {},
   "outputs": [],
   "source": [
    "query= '''\n",
    "select distinct(id_map.building_id) as b_id, building_structure.*, building_damage.damage_grade\n",
    "from id_map\n",
    "join building_structure on id_map.building_id = building_structure.building_id\n",
    "join building_damage on id_map.building_id = building_damage.building_id\n",
    "where id_map.district_id = 36\n",
    "'''"
   ]
  },
  {
   "cell_type": "code",
   "execution_count": 62,
   "id": "990c90e3-3e9d-4f5f-a894-4b0275dfe111",
   "metadata": {},
   "outputs": [],
   "source": [
    "import pandas as pd\n",
    "import numpy as np"
   ]
  },
  {
   "cell_type": "code",
   "execution_count": 63,
   "id": "a702281f-0d27-4206-b60a-d2efccc1baba",
   "metadata": {},
   "outputs": [],
   "source": [
    "df = pd.read_sql(query, conn, index_col='b_id')"
   ]
  },
  {
   "cell_type": "code",
   "execution_count": 114,
   "id": "0f7e25cc-40c5-427e-b2d5-40c5fb37236c",
   "metadata": {},
   "outputs": [],
   "source": [
    "df.to_csv(\"cleaned_nepal_earthquake.csv\")"
   ]
  },
  {
   "cell_type": "code",
   "execution_count": 64,
   "id": "994c81c2-eddf-4164-9410-6cbb2f09028b",
   "metadata": {},
   "outputs": [],
   "source": [
    "df = pd.read_csv(\"cleaned_nepal_earthquake.csv\")"
   ]
  },
  {
   "cell_type": "code",
   "execution_count": 116,
   "id": "f1b1ec2e-9a9f-419c-b26b-8adf856c7328",
   "metadata": {},
   "outputs": [
    {
     "name": "stdout",
     "output_type": "stream",
     "text": [
      "<class 'pandas.core.frame.DataFrame'>\n",
      "RangeIndex: 78074 entries, 0 to 78073\n",
      "Data columns (total 18 columns):\n",
      " #   Column                  Non-Null Count  Dtype  \n",
      "---  ------                  --------------  -----  \n",
      " 0   b_id                    78074 non-null  float64\n",
      " 1   age_building            78074 non-null  int64  \n",
      " 2   building_id             78074 non-null  float64\n",
      " 3   condition_post_eq       78074 non-null  object \n",
      " 4   count_floors_post_eq    78074 non-null  int64  \n",
      " 5   count_floors_pre_eq     78074 non-null  int64  \n",
      " 6   foundation_type         78074 non-null  object \n",
      " 7   ground_floor_type       78074 non-null  object \n",
      " 8   height_ft_post_eq       78074 non-null  int64  \n",
      " 9   height_ft_pre_eq        78074 non-null  int64  \n",
      " 10  land_surface_condition  78074 non-null  object \n",
      " 11  other_floor_type        78074 non-null  object \n",
      " 12  plan_configuration      78074 non-null  object \n",
      " 13  plinth_area_sq_ft       78074 non-null  int64  \n",
      " 14  position                78074 non-null  object \n",
      " 15  roof_type               78074 non-null  object \n",
      " 16  superstructure          78074 non-null  object \n",
      " 17  damage_grade            78074 non-null  object \n",
      "dtypes: float64(2), int64(6), object(10)\n",
      "memory usage: 10.7+ MB\n"
     ]
    }
   ],
   "source": [
    "df.info()"
   ]
  },
  {
   "cell_type": "code",
   "execution_count": 65,
   "id": "a70bffd8-9b49-4b91-a8b3-f921085d5048",
   "metadata": {},
   "outputs": [],
   "source": [
    "drop_cols = [col for col in df.columns if 'post_eq' in col]"
   ]
  },
  {
   "cell_type": "code",
   "execution_count": 66,
   "id": "a52be1b2-91c2-4762-a1ff-66da6e8c04b2",
   "metadata": {},
   "outputs": [],
   "source": [
    "df['damage_grade'] = df['damage_grade'].str[-1].astype(int)\n",
    "df['severe_damage'] = (df['damage_grade']>3).astype(int)"
   ]
  },
  {
   "cell_type": "code",
   "execution_count": 67,
   "id": "5b42a197-3c1c-4979-be9f-7de66ed98b43",
   "metadata": {},
   "outputs": [],
   "source": [
    "drop_cols.append('damage_grade')"
   ]
  },
  {
   "cell_type": "code",
   "execution_count": 68,
   "id": "a76ef444-0f6a-4f29-afcc-dcb34fc9531c",
   "metadata": {},
   "outputs": [],
   "source": [
    "import seaborn as sns\n",
    "import matplotlib.pyplot as plt\n",
    "import sqlite3\n",
    "import pandas as pd"
   ]
  },
  {
   "cell_type": "code",
   "execution_count": 69,
   "id": "346624fe-9664-4c0c-81ae-4b4b669563e2",
   "metadata": {},
   "outputs": [],
   "source": [
    "correlation = df.select_dtypes('number').corr()"
   ]
  },
  {
   "cell_type": "code",
   "execution_count": 125,
   "id": "a4915b59-2c15-4983-989f-ded1d1602e54",
   "metadata": {},
   "outputs": [
    {
     "data": {
      "image/png": "[encoded data removed]",
      "text/plain": [
       "<Figure size 1000x500 with 2 Axes>"
      ]
     },
     "metadata": {},
     "output_type": "display_data"
    }
   ],
   "source": [
    "plt.figure(figsize=(10,5))\n",
    "sns.heatmap(correlation)\n",
    "plt.show()"
   ]
  },
  {
   "cell_type": "code",
   "execution_count": 70,
   "id": "b72488e1-205c-491e-b561-9a66566b0c21",
   "metadata": {},
   "outputs": [],
   "source": [
    "drop_cols.append('building_id')"
   ]
  },
  {
   "cell_type": "code",
   "execution_count": 71,
   "id": "a75984c0-65b5-427a-9837-b89155181fdd",
   "metadata": {},
   "outputs": [],
   "source": [
    "def wrangle(db_path):\n",
    "    conn = sqlite3.connect(db_path)\n",
    "\n",
    "    query= '''\n",
    "    select distinct(id_map.building_id) as b_id, building_structure.*, building_damage.damage_grade\n",
    "    from id_map\n",
    "    join building_structure on id_map.building_id = building_structure.building_id\n",
    "    join building_damage on id_map.building_id = building_damage.building_id\n",
    "    where id_map.district_id = 36\n",
    "    '''\n",
    "\n",
    "    df = pd.read_sql(query, conn, index_col='b_id')\n",
    "\n",
    "    drop_cols = [col for col in df.columns if 'post_eq' in col]\n",
    "\n",
    "    df['damage_grade'] = df['damage_grade'].str[-1].astype(int)\n",
    "    df['severe_damage'] = (df['damage_grade']>3).astype(int)\n",
    "\n",
    "    drop_cols.append('damage_grade')\n",
    "\n",
    "    correlation = df.select_dtypes('number').corr()\n",
    "\n",
    "    df.drop(columns=drop_cols, inplace=True)\n",
    "    return df"
   ]
  },
  {
   "cell_type": "code",
   "execution_count": 72,
   "id": "fbd8e328-afb6-4ca6-b01a-8ba650fe45ca",
   "metadata": {},
   "outputs": [],
   "source": [
    "df = wrangle(\"/Users/mac/Desktop/venv/Gomycode/nepal_eq.db\")"
   ]
  },
  {
   "cell_type": "code",
   "execution_count": 73,
   "id": "39173152-2e31-478e-87a8-e26969f0a81e",
   "metadata": {},
   "outputs": [],
   "source": [
    "from sklearn.model_selection import train_test_split\n",
    "from sklearn.metrics import accuracy_score, confusion_matrix\n",
    "from sklearn.linear_model import LogisticRegression\n",
    "from category_encoders import OneHotEncoder\n",
    "from sklearn.pipeline import Pipeline\n",
    "from sklearn.utils.validation import check_is_fitted\n",
    "from sklearn.preprocessing import StandardScaler\n",
    "import numpy as np"
   ]
  },
  {
   "cell_type": "code",
   "execution_count": 74,
   "id": "8dbd7f88-b9f5-4828-a010-991b61969663",
   "metadata": {},
   "outputs": [
    {
     "name": "stdout",
     "output_type": "stream",
     "text": [
      "severe_damage\n",
      "1    49661\n",
      "0    28413\n",
      "Name: count, dtype: int64\n"
     ]
    }
   ],
   "source": [
    "print(df['severe_damage'].value_counts())"
   ]
  },
  {
   "cell_type": "code",
   "execution_count": 75,
   "id": "78bd66f6-1ae3-4dc2-bc2d-e820026b1521",
   "metadata": {},
   "outputs": [
    {
     "data": {
      "image/png": "[encoded data removed]",
      "text/plain": [
       "<Figure size 1000x500 with 1 Axes>"
      ]
     },
     "metadata": {},
     "output_type": "display_data"
    }
   ],
   "source": [
    "plt.figure(figsize=(10,5))\n",
    "sns.boxplot(x='severe_damage', y='height_ft_pre_eq', data=df)\n",
    "#Label Axis\n",
    "plt.xlabel('Severe Damage')\n",
    "plt.ylabel('Height Pre-eq [Ft.]')\n",
    "plt.title('Distribution of Building height by class')\n",
    "plt.show()"
   ]
  },
  {
   "cell_type": "code",
   "execution_count": 76,
   "id": "0af26d58-dce0-4956-9ea8-ca61059aab0a",
   "metadata": {},
   "outputs": [
    {
     "data": {
      "image/png": "[encoded data removed]",
      "text/plain": [
       "<Figure size 1000x500 with 1 Axes>"
      ]
     },
     "metadata": {},
     "output_type": "display_data"
    }
   ],
   "source": [
    "plt.figure(figsize=(10,5))\n",
    "df['severe_damage'].value_counts(normalize=True).plot(\n",
    "    kind='bar',\n",
    "    xlabel='class', ylabel='Relative Frequency', title='Class Balance')\n",
    "plt.show()"
   ]
  },
  {
   "cell_type": "code",
   "execution_count": null,
   "id": "8c77580d-5534-4989-8b6e-2c19ac2b70af",
   "metadata": {},
   "outputs": [],
   "source": []
  },
  {
   "cell_type": "code",
   "execution_count": null,
   "id": "78876ff2-35f2-44db-871a-e3c827282864",
   "metadata": {},
   "outputs": [],
   "source": []
  },
  {
   "cell_type": "code",
   "execution_count": 77,
   "id": "98e273db-d993-43b6-a6f5-4e0a7142a373",
   "metadata": {},
   "outputs": [
    {
     "data": {
      "text/html": [
       "<div>\n",
       "<style scoped>\n",
       "    .dataframe tbody tr th:only-of-type {\n",
       "        vertical-align: middle;\n",
       "    }\n",
       "\n",
       "    .dataframe tbody tr th {\n",
       "        vertical-align: top;\n",
       "    }\n",
       "\n",
       "    .dataframe thead th {\n",
       "        text-align: right;\n",
       "    }\n",
       "</style>\n",
       "<table border=\"1\" class=\"dataframe\">\n",
       "  <thead>\n",
       "    <tr style=\"text-align: right;\">\n",
       "      <th></th>\n",
       "      <th>severe_damage</th>\n",
       "    </tr>\n",
       "    <tr>\n",
       "      <th>foundation_type</th>\n",
       "      <th></th>\n",
       "    </tr>\n",
       "  </thead>\n",
       "  <tbody>\n",
       "    <tr>\n",
       "      <th>RC</th>\n",
       "      <td>0.027134</td>\n",
       "    </tr>\n",
       "    <tr>\n",
       "      <th>Bamboo/Timber</th>\n",
       "      <td>0.321429</td>\n",
       "    </tr>\n",
       "    <tr>\n",
       "      <th>Cement-Stone/Brick</th>\n",
       "      <td>0.410200</td>\n",
       "    </tr>\n",
       "    <tr>\n",
       "      <th>Mud mortar-Stone/Brick</th>\n",
       "      <td>0.684101</td>\n",
       "    </tr>\n",
       "    <tr>\n",
       "      <th>Other</th>\n",
       "      <td>0.801020</td>\n",
       "    </tr>\n",
       "  </tbody>\n",
       "</table>\n",
       "</div>"
      ],
      "text/plain": [
       "                        severe_damage\n",
       "foundation_type                      \n",
       "RC                           0.027134\n",
       "Bamboo/Timber                0.321429\n",
       "Cement-Stone/Brick           0.410200\n",
       "Mud mortar-Stone/Brick       0.684101\n",
       "Other                        0.801020"
      ]
     },
     "execution_count": 77,
     "metadata": {},
     "output_type": "execute_result"
    }
   ],
   "source": [
    "foundation_pivot = pd.pivot_table(\n",
    "    df, index='foundation_type', values='severe_damage', aggfunc='mean').sort_values(by='severe_damage')\n",
    "foundation_pivot"
   ]
  },
  {
   "cell_type": "code",
   "execution_count": 78,
   "id": "5008f7cc-181b-4515-a998-800632e5cf59",
   "metadata": {},
   "outputs": [
    {
     "data": {
      "text/plain": [
       "<Figure size 1000x500 with 0 Axes>"
      ]
     },
     "metadata": {},
     "output_type": "display_data"
    },
    {
     "data": {
      "image/png": "[encoded data removed]",
      "text/plain": [
       "<Figure size 640x480 with 1 Axes>"
      ]
     },
     "metadata": {},
     "output_type": "display_data"
    }
   ],
   "source": [
    "plt.figure(figsize=(10,5))\n",
    "foundation_pivot.plot(kind='barh')\n",
    "plt.axvline(\n",
    "    majority_class_prop, linestyle='--', color='red', label='majority class')\n",
    "plt.axvline(\n",
    "    minority_class_prop, linestyle='--', color='green', label='minority class')\n",
    "plt.legend(loc='lower right')\n",
    "plt.show()"
   ]
  },
  {
   "cell_type": "code",
   "execution_count": 79,
   "id": "06db19f4-dce6-4897-b5d8-029e8e971361",
   "metadata": {},
   "outputs": [],
   "source": [
    "majority_class_prop, minority_class_prop =df['severe_damage'].value_counts(normalize=True)"
   ]
  },
  {
   "cell_type": "code",
   "execution_count": 80,
   "id": "b6ad8885-f864-4149-9b1a-ed6e4e3acac4",
   "metadata": {},
   "outputs": [
    {
     "data": {
      "text/plain": [
       "foundation_type            5\n",
       "ground_floor_type          5\n",
       "land_surface_condition     3\n",
       "other_floor_type           4\n",
       "plan_configuration        10\n",
       "position                   4\n",
       "roof_type                  3\n",
       "superstructure            11\n",
       "dtype: int64"
      ]
     },
     "execution_count": 80,
     "metadata": {},
     "output_type": "execute_result"
    }
   ],
   "source": [
    "df.select_dtypes('object').nunique()"
   ]
  },
  {
   "cell_type": "code",
   "execution_count": 81,
   "id": "23b8426b-40be-4ec4-be52-717cd9012800",
   "metadata": {},
   "outputs": [],
   "source": [
    "target = 'severe_damage'\n",
    "feature = df.drop('severe_damage', axis=1)\n",
    "X = feature\n",
    "y = df[target]"
   ]
  },
  {
   "cell_type": "code",
   "execution_count": 82,
   "id": "2d7a704d-ecbf-4649-bf17-2705b3581a23",
   "metadata": {},
   "outputs": [],
   "source": [
    "X_train, X_test, y_train, y_test = train_test_split(X, y, test_size=0.2, random_state=30)"
   ]
  },
  {
   "cell_type": "code",
   "execution_count": 83,
   "id": "1a489505-f319-4301-a407-43c952e3f930",
   "metadata": {},
   "outputs": [
    {
     "name": "stdout",
     "output_type": "stream",
     "text": [
      "Baseline Accuraccy: 0.64\n"
     ]
    }
   ],
   "source": [
    "acc_baseline = y_train.value_counts(normalize=True).max()\n",
    "print(\"Baseline Accuraccy:\", round(acc_baseline, 2))"
   ]
  },
  {
   "cell_type": "code",
   "execution_count": 84,
   "id": "f9e84525-c296-492f-a46c-bea5e449f389",
   "metadata": {},
   "outputs": [],
   "source": [
    "model = Pipeline([\n",
    "    ('ohe', OneHotEncoder(use_cat_names=True)),\n",
    "    ('sc', StandardScaler()),\n",
    "    ('lr', LogisticRegression())\n",
    "])"
   ]
  },
  {
   "cell_type": "code",
   "execution_count": 85,
   "id": "31226a8f-c0b5-4652-9b0e-cc8f5abc8e5e",
   "metadata": {},
   "outputs": [
    {
     "data": {
      "text/html": [
       "<style>#sk-container-id-2 {\n",
       "  /* Definition of color scheme common for light and dark mode */\n",
       "  --sklearn-color-text: #000;\n",
       "  --sklearn-color-text-muted: #666;\n",
       "  --sklearn-color-line: gray;\n",
       "  /* Definition of color scheme for unfitted estimators */\n",
       "  --sklearn-color-unfitted-level-0: #fff5e6;\n",
       "  --sklearn-color-unfitted-level-1: #f6e4d2;\n",
       "  --sklearn-color-unfitted-level-2: #ffe0b3;\n",
       "  --sklearn-color-unfitted-level-3: chocolate;\n",
       "  /* Definition of color scheme for fitted estimators */\n",
       "  --sklearn-color-fitted-level-0: #f0f8ff;\n",
       "  --sklearn-color-fitted-level-1: #d4ebff;\n",
       "  --sklearn-color-fitted-level-2: #b3dbfd;\n",
       "  --sklearn-color-fitted-level-3: cornflowerblue;\n",
       "\n",
       "  /* Specific color for light theme */\n",
       "  --sklearn-color-text-on-default-background: var(--sg-text-color, var(--theme-code-foreground, var(--jp-content-font-color1, black)));\n",
       "  --sklearn-color-background: var(--sg-background-color, var(--theme-background, var(--jp-layout-color0, white)));\n",
       "  --sklearn-color-border-box: var(--sg-text-color, var(--theme-code-foreground, var(--jp-content-font-color1, black)));\n",
       "  --sklearn-color-icon: #696969;\n",
       "\n",
       "  @media (prefers-color-scheme: dark) {\n",
       "    /* Redefinition of color scheme for dark theme */\n",
       "    --sklearn-color-text-on-default-background: var(--sg-text-color, var(--theme-code-foreground, var(--jp-content-font-color1, white)));\n",
       "    --sklearn-color-background: var(--sg-background-color, var(--theme-background, var(--jp-layout-color0, #111)));\n",
       "    --sklearn-color-border-box: var(--sg-text-color, var(--theme-code-foreground, var(--jp-content-font-color1, white)));\n",
       "    --sklearn-color-icon: #878787;\n",
       "  }\n",
       "}\n",
       "\n",
       "#sk-container-id-2 {\n",
       "  color: var(--sklearn-color-text);\n",
       "}\n",
       "\n",
       "#sk-container-id-2 pre {\n",
       "  padding: 0;\n",
       "}\n",
       "\n",
       "#sk-container-id-2 input.sk-hidden--visually {\n",
       "  border: 0;\n",
       "  clip: rect(1px 1px 1px 1px);\n",
       "  clip: rect(1px, 1px, 1px, 1px);\n",
       "  height: 1px;\n",
       "  margin: -1px;\n",
       "  overflow: hidden;\n",
       "  padding: 0;\n",
       "  position: absolute;\n",
       "  width: 1px;\n",
       "}\n",
       "\n",
       "#sk-container-id-2 div.sk-dashed-wrapped {\n",
       "  border: 1px dashed var(--sklearn-color-line);\n",
       "  margin: 0 0.4em 0.5em 0.4em;\n",
       "  box-sizing: border-box;\n",
       "  padding-bottom: 0.4em;\n",
       "  background-color: var(--sklearn-color-background);\n",
       "}\n",
       "\n",
       "#sk-container-id-2 div.sk-container {\n",
       "  /* jupyter's `normalize.less` sets `[hidden] { display: none; }`\n",
       "     but bootstrap.min.css set `[hidden] { display: none !important; }`\n",
       "     so we also need the `!important` here to be able to override the\n",
       "     default hidden behavior on the sphinx rendered scikit-learn.org.\n",
       "     See: https://github.com/scikit-learn/scikit-learn/issues/21755 */\n",
       "  display: inline-block !important;\n",
       "  position: relative;\n",
       "}\n",
       "\n",
       "#sk-container-id-2 div.sk-text-repr-fallback {\n",
       "  display: none;\n",
       "}\n",
       "\n",
       "div.sk-parallel-item,\n",
       "div.sk-serial,\n",
       "div.sk-item {\n",
       "  /* draw centered vertical line to link estimators */\n",
       "  background-image: linear-gradient(var(--sklearn-color-text-on-default-background), var(--sklearn-color-text-on-default-background));\n",
       "  background-size: 2px 100%;\n",
       "  background-repeat: no-repeat;\n",
       "  background-position: center center;\n",
       "}\n",
       "\n",
       "/* Parallel-specific style estimator block */\n",
       "\n",
       "#sk-container-id-2 div.sk-parallel-item::after {\n",
       "  content: \"\";\n",
       "  width: 100%;\n",
       "  border-bottom: 2px solid var(--sklearn-color-text-on-default-background);\n",
       "  flex-grow: 1;\n",
       "}\n",
       "\n",
       "#sk-container-id-2 div.sk-parallel {\n",
       "  display: flex;\n",
       "  align-items: stretch;\n",
       "  justify-content: center;\n",
       "  background-color: var(--sklearn-color-background);\n",
       "  position: relative;\n",
       "}\n",
       "\n",
       "#sk-container-id-2 div.sk-parallel-item {\n",
       "  display: flex;\n",
       "  flex-direction: column;\n",
       "}\n",
       "\n",
       "#sk-container-id-2 div.sk-parallel-item:first-child::after {\n",
       "  align-self: flex-end;\n",
       "  width: 50%;\n",
       "}\n",
       "\n",
       "#sk-container-id-2 div.sk-parallel-item:last-child::after {\n",
       "  align-self: flex-start;\n",
       "  width: 50%;\n",
       "}\n",
       "\n",
       "#sk-container-id-2 div.sk-parallel-item:only-child::after {\n",
       "  width: 0;\n",
       "}\n",
       "\n",
       "/* Serial-specific style estimator block */\n",
       "\n",
       "#sk-container-id-2 div.sk-serial {\n",
       "  display: flex;\n",
       "  flex-direction: column;\n",
       "  align-items: center;\n",
       "  background-color: var(--sklearn-color-background);\n",
       "  padding-right: 1em;\n",
       "  padding-left: 1em;\n",
       "}\n",
       "\n",
       "\n",
       "/* Toggleable style: style used for estimator/Pipeline/ColumnTransformer box that is\n",
       "clickable and can be expanded/collapsed.\n",
       "- Pipeline and ColumnTransformer use this feature and define the default style\n",
       "- Estimators will overwrite some part of the style using the `sk-estimator` class\n",
       "*/\n",
       "\n",
       "/* Pipeline and ColumnTransformer style (default) */\n",
       "\n",
       "#sk-container-id-2 div.sk-toggleable {\n",
       "  /* Default theme specific background. It is overwritten whether we have a\n",
       "  specific estimator or a Pipeline/ColumnTransformer */\n",
       "  background-color: var(--sklearn-color-background);\n",
       "}\n",
       "\n",
       "/* Toggleable label */\n",
       "#sk-container-id-2 label.sk-toggleable__label {\n",
       "  cursor: pointer;\n",
       "  display: flex;\n",
       "  width: 100%;\n",
       "  margin-bottom: 0;\n",
       "  padding: 0.5em;\n",
       "  box-sizing: border-box;\n",
       "  text-align: center;\n",
       "  align-items: start;\n",
       "  justify-content: space-between;\n",
       "  gap: 0.5em;\n",
       "}\n",
       "\n",
       "#sk-container-id-2 label.sk-toggleable__label .caption {\n",
       "  font-size: 0.6rem;\n",
       "  font-weight: lighter;\n",
       "  color: var(--sklearn-color-text-muted);\n",
       "}\n",
       "\n",
       "#sk-container-id-2 label.sk-toggleable__label-arrow:before {\n",
       "  /* Arrow on the left of the label */\n",
       "  content: \"▸\";\n",
       "  float: left;\n",
       "  margin-right: 0.25em;\n",
       "  color: var(--sklearn-color-icon);\n",
       "}\n",
       "\n",
       "#sk-container-id-2 label.sk-toggleable__label-arrow:hover:before {\n",
       "  color: var(--sklearn-color-text);\n",
       "}\n",
       "\n",
       "/* Toggleable content - dropdown */\n",
       "\n",
       "#sk-container-id-2 div.sk-toggleable__content {\n",
       "  max-height: 0;\n",
       "  max-width: 0;\n",
       "  overflow: hidden;\n",
       "  text-align: left;\n",
       "  /* unfitted */\n",
       "  background-color: var(--sklearn-color-unfitted-level-0);\n",
       "}\n",
       "\n",
       "#sk-container-id-2 div.sk-toggleable__content.fitted {\n",
       "  /* fitted */\n",
       "  background-color: var(--sklearn-color-fitted-level-0);\n",
       "}\n",
       "\n",
       "#sk-container-id-2 div.sk-toggleable__content pre {\n",
       "  margin: 0.2em;\n",
       "  border-radius: 0.25em;\n",
       "  color: var(--sklearn-color-text);\n",
       "  /* unfitted */\n",
       "  background-color: var(--sklearn-color-unfitted-level-0);\n",
       "}\n",
       "\n",
       "#sk-container-id-2 div.sk-toggleable__content.fitted pre {\n",
       "  /* unfitted */\n",
       "  background-color: var(--sklearn-color-fitted-level-0);\n",
       "}\n",
       "\n",
       "#sk-container-id-2 input.sk-toggleable__control:checked~div.sk-toggleable__content {\n",
       "  /* Expand drop-down */\n",
       "  max-height: 200px;\n",
       "  max-width: 100%;\n",
       "  overflow: auto;\n",
       "}\n",
       "\n",
       "#sk-container-id-2 input.sk-toggleable__control:checked~label.sk-toggleable__label-arrow:before {\n",
       "  content: \"▾\";\n",
       "}\n",
       "\n",
       "/* Pipeline/ColumnTransformer-specific style */\n",
       "\n",
       "#sk-container-id-2 div.sk-label input.sk-toggleable__control:checked~label.sk-toggleable__label {\n",
       "  color: var(--sklearn-color-text);\n",
       "  background-color: var(--sklearn-color-unfitted-level-2);\n",
       "}\n",
       "\n",
       "#sk-container-id-2 div.sk-label.fitted input.sk-toggleable__control:checked~label.sk-toggleable__label {\n",
       "  background-color: var(--sklearn-color-fitted-level-2);\n",
       "}\n",
       "\n",
       "/* Estimator-specific style */\n",
       "\n",
       "/* Colorize estimator box */\n",
       "#sk-container-id-2 div.sk-estimator input.sk-toggleable__control:checked~label.sk-toggleable__label {\n",
       "  /* unfitted */\n",
       "  background-color: var(--sklearn-color-unfitted-level-2);\n",
       "}\n",
       "\n",
       "#sk-container-id-2 div.sk-estimator.fitted input.sk-toggleable__control:checked~label.sk-toggleable__label {\n",
       "  /* fitted */\n",
       "  background-color: var(--sklearn-color-fitted-level-2);\n",
       "}\n",
       "\n",
       "#sk-container-id-2 div.sk-label label.sk-toggleable__label,\n",
       "#sk-container-id-2 div.sk-label label {\n",
       "  /* The background is the default theme color */\n",
       "  color: var(--sklearn-color-text-on-default-background);\n",
       "}\n",
       "\n",
       "/* On hover, darken the color of the background */\n",
       "#sk-container-id-2 div.sk-label:hover label.sk-toggleable__label {\n",
       "  color: var(--sklearn-color-text);\n",
       "  background-color: var(--sklearn-color-unfitted-level-2);\n",
       "}\n",
       "\n",
       "/* Label box, darken color on hover, fitted */\n",
       "#sk-container-id-2 div.sk-label.fitted:hover label.sk-toggleable__label.fitted {\n",
       "  color: var(--sklearn-color-text);\n",
       "  background-color: var(--sklearn-color-fitted-level-2);\n",
       "}\n",
       "\n",
       "/* Estimator label */\n",
       "\n",
       "#sk-container-id-2 div.sk-label label {\n",
       "  font-family: monospace;\n",
       "  font-weight: bold;\n",
       "  display: inline-block;\n",
       "  line-height: 1.2em;\n",
       "}\n",
       "\n",
       "#sk-container-id-2 div.sk-label-container {\n",
       "  text-align: center;\n",
       "}\n",
       "\n",
       "/* Estimator-specific */\n",
       "#sk-container-id-2 div.sk-estimator {\n",
       "  font-family: monospace;\n",
       "  border: 1px dotted var(--sklearn-color-border-box);\n",
       "  border-radius: 0.25em;\n",
       "  box-sizing: border-box;\n",
       "  margin-bottom: 0.5em;\n",
       "  /* unfitted */\n",
       "  background-color: var(--sklearn-color-unfitted-level-0);\n",
       "}\n",
       "\n",
       "#sk-container-id-2 div.sk-estimator.fitted {\n",
       "  /* fitted */\n",
       "  background-color: var(--sklearn-color-fitted-level-0);\n",
       "}\n",
       "\n",
       "/* on hover */\n",
       "#sk-container-id-2 div.sk-estimator:hover {\n",
       "  /* unfitted */\n",
       "  background-color: var(--sklearn-color-unfitted-level-2);\n",
       "}\n",
       "\n",
       "#sk-container-id-2 div.sk-estimator.fitted:hover {\n",
       "  /* fitted */\n",
       "  background-color: var(--sklearn-color-fitted-level-2);\n",
       "}\n",
       "\n",
       "/* Specification for estimator info (e.g. \"i\" and \"?\") */\n",
       "\n",
       "/* Common style for \"i\" and \"?\" */\n",
       "\n",
       ".sk-estimator-doc-link,\n",
       "a:link.sk-estimator-doc-link,\n",
       "a:visited.sk-estimator-doc-link {\n",
       "  float: right;\n",
       "  font-size: smaller;\n",
       "  line-height: 1em;\n",
       "  font-family: monospace;\n",
       "  background-color: var(--sklearn-color-background);\n",
       "  border-radius: 1em;\n",
       "  height: 1em;\n",
       "  width: 1em;\n",
       "  text-decoration: none !important;\n",
       "  margin-left: 0.5em;\n",
       "  text-align: center;\n",
       "  /* unfitted */\n",
       "  border: var(--sklearn-color-unfitted-level-1) 1pt solid;\n",
       "  color: var(--sklearn-color-unfitted-level-1);\n",
       "}\n",
       "\n",
       ".sk-estimator-doc-link.fitted,\n",
       "a:link.sk-estimator-doc-link.fitted,\n",
       "a:visited.sk-estimator-doc-link.fitted {\n",
       "  /* fitted */\n",
       "  border: var(--sklearn-color-fitted-level-1) 1pt solid;\n",
       "  color: var(--sklearn-color-fitted-level-1);\n",
       "}\n",
       "\n",
       "/* On hover */\n",
       "div.sk-estimator:hover .sk-estimator-doc-link:hover,\n",
       ".sk-estimator-doc-link:hover,\n",
       "div.sk-label-container:hover .sk-estimator-doc-link:hover,\n",
       ".sk-estimator-doc-link:hover {\n",
       "  /* unfitted */\n",
       "  background-color: var(--sklearn-color-unfitted-level-3);\n",
       "  color: var(--sklearn-color-background);\n",
       "  text-decoration: none;\n",
       "}\n",
       "\n",
       "div.sk-estimator.fitted:hover .sk-estimator-doc-link.fitted:hover,\n",
       ".sk-estimator-doc-link.fitted:hover,\n",
       "div.sk-label-container:hover .sk-estimator-doc-link.fitted:hover,\n",
       ".sk-estimator-doc-link.fitted:hover {\n",
       "  /* fitted */\n",
       "  background-color: var(--sklearn-color-fitted-level-3);\n",
       "  color: var(--sklearn-color-background);\n",
       "  text-decoration: none;\n",
       "}\n",
       "\n",
       "/* Span, style for the box shown on hovering the info icon */\n",
       ".sk-estimator-doc-link span {\n",
       "  display: none;\n",
       "  z-index: 9999;\n",
       "  position: relative;\n",
       "  font-weight: normal;\n",
       "  right: .2ex;\n",
       "  padding: .5ex;\n",
       "  margin: .5ex;\n",
       "  width: min-content;\n",
       "  min-width: 20ex;\n",
       "  max-width: 50ex;\n",
       "  color: var(--sklearn-color-text);\n",
       "  box-shadow: 2pt 2pt 4pt #999;\n",
       "  /* unfitted */\n",
       "  background: var(--sklearn-color-unfitted-level-0);\n",
       "  border: .5pt solid var(--sklearn-color-unfitted-level-3);\n",
       "}\n",
       "\n",
       ".sk-estimator-doc-link.fitted span {\n",
       "  /* fitted */\n",
       "  background: var(--sklearn-color-fitted-level-0);\n",
       "  border: var(--sklearn-color-fitted-level-3);\n",
       "}\n",
       "\n",
       ".sk-estimator-doc-link:hover span {\n",
       "  display: block;\n",
       "}\n",
       "\n",
       "/* \"?\"-specific style due to the `<a>` HTML tag */\n",
       "\n",
       "#sk-container-id-2 a.estimator_doc_link {\n",
       "  float: right;\n",
       "  font-size: 1rem;\n",
       "  line-height: 1em;\n",
       "  font-family: monospace;\n",
       "  background-color: var(--sklearn-color-background);\n",
       "  border-radius: 1rem;\n",
       "  height: 1rem;\n",
       "  width: 1rem;\n",
       "  text-decoration: none;\n",
       "  /* unfitted */\n",
       "  color: var(--sklearn-color-unfitted-level-1);\n",
       "  border: var(--sklearn-color-unfitted-level-1) 1pt solid;\n",
       "}\n",
       "\n",
       "#sk-container-id-2 a.estimator_doc_link.fitted {\n",
       "  /* fitted */\n",
       "  border: var(--sklearn-color-fitted-level-1) 1pt solid;\n",
       "  color: var(--sklearn-color-fitted-level-1);\n",
       "}\n",
       "\n",
       "/* On hover */\n",
       "#sk-container-id-2 a.estimator_doc_link:hover {\n",
       "  /* unfitted */\n",
       "  background-color: var(--sklearn-color-unfitted-level-3);\n",
       "  color: var(--sklearn-color-background);\n",
       "  text-decoration: none;\n",
       "}\n",
       "\n",
       "#sk-container-id-2 a.estimator_doc_link.fitted:hover {\n",
       "  /* fitted */\n",
       "  background-color: var(--sklearn-color-fitted-level-3);\n",
       "}\n",
       "</style><div id=\"sk-container-id-2\" class=\"sk-top-container\"><div class=\"sk-text-repr-fallback\"><pre>Pipeline(steps=[(&#x27;ohe&#x27;,\n",
       "                 OneHotEncoder(cols=[&#x27;foundation_type&#x27;, &#x27;ground_floor_type&#x27;,\n",
       "                                     &#x27;land_surface_condition&#x27;,\n",
       "                                     &#x27;other_floor_type&#x27;, &#x27;plan_configuration&#x27;,\n",
       "                                     &#x27;position&#x27;, &#x27;roof_type&#x27;,\n",
       "                                     &#x27;superstructure&#x27;],\n",
       "                               use_cat_names=True)),\n",
       "                (&#x27;sc&#x27;, StandardScaler()), (&#x27;lr&#x27;, LogisticRegression())])</pre><b>In a Jupyter environment, please rerun this cell to show the HTML representation or trust the notebook. <br />On GitHub, the HTML representation is unable to render, please try loading this page with nbviewer.org.</b></div><div class=\"sk-container\" hidden><div class=\"sk-item sk-dashed-wrapped\"><div class=\"sk-label-container\"><div class=\"sk-label fitted sk-toggleable\"><input class=\"sk-toggleable__control sk-hidden--visually\" id=\"sk-estimator-id-5\" type=\"checkbox\" ><label for=\"sk-estimator-id-5\" class=\"sk-toggleable__label fitted sk-toggleable__label-arrow\"><div><div>Pipeline</div></div><div><a class=\"sk-estimator-doc-link fitted\" rel=\"noreferrer\" target=\"_blank\" href=\"https://scikit-learn.org/1.6/modules/generated/sklearn.pipeline.Pipeline.html\">?<span>Documentation for Pipeline</span></a><span class=\"sk-estimator-doc-link fitted\">i<span>Fitted</span></span></div></label><div class=\"sk-toggleable__content fitted\"><pre>Pipeline(steps=[(&#x27;ohe&#x27;,\n",
       "                 OneHotEncoder(cols=[&#x27;foundation_type&#x27;, &#x27;ground_floor_type&#x27;,\n",
       "                                     &#x27;land_surface_condition&#x27;,\n",
       "                                     &#x27;other_floor_type&#x27;, &#x27;plan_configuration&#x27;,\n",
       "                                     &#x27;position&#x27;, &#x27;roof_type&#x27;,\n",
       "                                     &#x27;superstructure&#x27;],\n",
       "                               use_cat_names=True)),\n",
       "                (&#x27;sc&#x27;, StandardScaler()), (&#x27;lr&#x27;, LogisticRegression())])</pre></div> </div></div><div class=\"sk-serial\"><div class=\"sk-item\"><div class=\"sk-estimator fitted sk-toggleable\"><input class=\"sk-toggleable__control sk-hidden--visually\" id=\"sk-estimator-id-6\" type=\"checkbox\" ><label for=\"sk-estimator-id-6\" class=\"sk-toggleable__label fitted sk-toggleable__label-arrow\"><div><div>OneHotEncoder</div></div></label><div class=\"sk-toggleable__content fitted\"><pre>OneHotEncoder(cols=[&#x27;foundation_type&#x27;, &#x27;ground_floor_type&#x27;,\n",
       "                    &#x27;land_surface_condition&#x27;, &#x27;other_floor_type&#x27;,\n",
       "                    &#x27;plan_configuration&#x27;, &#x27;position&#x27;, &#x27;roof_type&#x27;,\n",
       "                    &#x27;superstructure&#x27;],\n",
       "              use_cat_names=True)</pre></div> </div></div><div class=\"sk-item\"><div class=\"sk-estimator fitted sk-toggleable\"><input class=\"sk-toggleable__control sk-hidden--visually\" id=\"sk-estimator-id-7\" type=\"checkbox\" ><label for=\"sk-estimator-id-7\" class=\"sk-toggleable__label fitted sk-toggleable__label-arrow\"><div><div>StandardScaler</div></div><div><a class=\"sk-estimator-doc-link fitted\" rel=\"noreferrer\" target=\"_blank\" href=\"https://scikit-learn.org/1.6/modules/generated/sklearn.preprocessing.StandardScaler.html\">?<span>Documentation for StandardScaler</span></a></div></label><div class=\"sk-toggleable__content fitted\"><pre>StandardScaler()</pre></div> </div></div><div class=\"sk-item\"><div class=\"sk-estimator fitted sk-toggleable\"><input class=\"sk-toggleable__control sk-hidden--visually\" id=\"sk-estimator-id-8\" type=\"checkbox\" ><label for=\"sk-estimator-id-8\" class=\"sk-toggleable__label fitted sk-toggleable__label-arrow\"><div><div>LogisticRegression</div></div><div><a class=\"sk-estimator-doc-link fitted\" rel=\"noreferrer\" target=\"_blank\" href=\"https://scikit-learn.org/1.6/modules/generated/sklearn.linear_model.LogisticRegression.html\">?<span>Documentation for LogisticRegression</span></a></div></label><div class=\"sk-toggleable__content fitted\"><pre>LogisticRegression()</pre></div> </div></div></div></div></div></div>"
      ],
      "text/plain": [
       "Pipeline(steps=[('ohe',\n",
       "                 OneHotEncoder(cols=['foundation_type', 'ground_floor_type',\n",
       "                                     'land_surface_condition',\n",
       "                                     'other_floor_type', 'plan_configuration',\n",
       "                                     'position', 'roof_type',\n",
       "                                     'superstructure'],\n",
       "                               use_cat_names=True)),\n",
       "                ('sc', StandardScaler()), ('lr', LogisticRegression())])"
      ]
     },
     "execution_count": 85,
     "metadata": {},
     "output_type": "execute_result"
    }
   ],
   "source": [
    "model.fit(X_train, y_train)"
   ]
  },
  {
   "cell_type": "code",
   "execution_count": 86,
   "id": "1626f303-c991-40c4-9332-8175dc0f4109",
   "metadata": {},
   "outputs": [
    {
     "data": {
      "text/plain": [
       "0.7146448069933876"
      ]
     },
     "execution_count": 86,
     "metadata": {},
     "output_type": "execute_result"
    }
   ],
   "source": [
    "model.score(X_train, y_train)"
   ]
  },
  {
   "cell_type": "code",
   "execution_count": null,
   "id": "34d13745-449c-4d70-8b34-62e8008094e0",
   "metadata": {},
   "outputs": [],
   "source": []
  },
  {
   "cell_type": "code",
   "execution_count": 89,
   "id": "19a52cbe-6bb0-496c-a55f-98dd0d241f91",
   "metadata": {},
   "outputs": [],
   "source": [
    "y_pred = model.predict(X_test)"
   ]
  },
  {
   "cell_type": "code",
   "execution_count": null,
   "id": "cde02714-39f7-4f23-b9d3-c8abc3547ce6",
   "metadata": {},
   "outputs": [],
   "source": []
  },
  {
   "cell_type": "code",
   "execution_count": null,
   "id": "55756b2a-4c5e-43e0-97c4-699232c7f0f2",
   "metadata": {},
   "outputs": [],
   "source": []
  },
  {
   "cell_type": "code",
   "execution_count": null,
   "id": "f95cd439-cd9d-4997-81a8-124e9f69f6d9",
   "metadata": {},
   "outputs": [],
   "source": []
  },
  {
   "cell_type": "code",
   "execution_count": 87,
   "id": "b6f7e0c8-b587-43fc-8167-e5ace70c7035",
   "metadata": {},
   "outputs": [],
   "source": [
    "features = model.named_steps['ohe'].get_feature_names_out()\n",
    "importances = model.named_steps['lr'].coef_[0]"
   ]
  },
  {
   "cell_type": "code",
   "execution_count": null,
   "id": "534e2256-93e2-4e53-9df0-9908baf0de7a",
   "metadata": {},
   "outputs": [],
   "source": []
  },
  {
   "cell_type": "code",
   "execution_count": 88,
   "id": "fcd3a077-184a-4f5e-a70f-eb29b54d5c51",
   "metadata": {},
   "outputs": [
    {
     "data": {
      "text/plain": [
       "<bound method Series.info of superstructure_cement_mortar_brick                    0.770855\n",
       "foundation_type_RC                                    0.792525\n",
       "superstructure_rc_non_engineered                      0.826762\n",
       "roof_type_RCC/RB/RBC                                  0.829138\n",
       "ground_floor_type_RC                                  0.869232\n",
       "superstructure_rc_engineered                          0.876611\n",
       "count_floors_pre_eq                                   0.894033\n",
       "superstructure_cement_mortar_stone                    0.916113\n",
       "other_floor_type_RCC/RB/RBC                           0.924294\n",
       "superstructure_other                                  0.925160\n",
       "superstructure_mud_mortar_brick                       0.934620\n",
       "other_floor_type_Not applicable                       0.936309\n",
       "plan_configuration_Multi-projected                    0.949972\n",
       "superstructure_bamboo                                 0.950346\n",
       "superstructure_timber                                 0.953340\n",
       "foundation_type_Bamboo/Timber                         0.954834\n",
       "land_surface_condition_Flat                           0.959289\n",
       "plan_configuration_L-shape                            0.960439\n",
       "plan_configuration_U-shape                            0.974704\n",
       "position_Not attached                                 0.980189\n",
       "position_Attached-3 side                              0.984176\n",
       "plan_configuration_Others                             0.984179\n",
       "other_floor_type_TImber/Bamboo-Mud                    0.986907\n",
       "plan_configuration_H-shape                            0.987002\n",
       "plan_configuration_Building with Central Courtyard    0.988161\n",
       "plan_configuration_T-shape                            0.996868\n",
       "position_Attached-2 side                              0.998737\n",
       "land_surface_condition_Moderate slope                 1.009542\n",
       "plan_configuration_Square                             1.009571\n",
       "ground_floor_type_Other                               1.011468\n",
       "plan_configuration_E-shape                            1.015801\n",
       "superstructure_adobe_mud                              1.019885\n",
       "foundation_type_Cement-Stone/Brick                    1.022696\n",
       "position_Attached-1 side                              1.023878\n",
       "roof_type_Bamboo/Timber-Light roof                    1.031055\n",
       "plan_configuration_Rectangular                        1.032110\n",
       "ground_floor_type_Timber                              1.035991\n",
       "ground_floor_type_Mud                                 1.040631\n",
       "age_building                                          1.053467\n",
       "plinth_area_sq_ft                                     1.054089\n",
       "roof_type_Bamboo/Timber-Heavy roof                    1.071385\n",
       "foundation_type_Other                                 1.073187\n",
       "land_surface_condition_Steep slope                    1.073561\n",
       "ground_floor_type_Brick/Stone                         1.076993\n",
       "height_ft_pre_eq                                      1.077440\n",
       "building_id                                           1.107089\n",
       "other_floor_type_Timber-Planck                        1.127262\n",
       "foundation_type_Mud mortar-Stone/Brick                1.158032\n",
       "superstructure_stone_flag                             1.191277\n",
       "superstructure_mud_mortar_stone                       1.225409\n",
       "dtype: float64>"
      ]
     },
     "execution_count": 88,
     "metadata": {},
     "output_type": "execute_result"
    }
   ],
   "source": [
    "feat_imp = pd.Series(np.exp(importances), index=features).sort_values()\n",
    "feat_imp.info"
   ]
  },
  {
   "cell_type": "code",
   "execution_count": 54,
   "id": "dbc53fb7-aceb-4518-b349-d2f141df0d91",
   "metadata": {},
   "outputs": [
    {
     "data": {
      "text/plain": [
       "Text(0.5, 0, 'Odds Ratio')"
      ]
     },
     "execution_count": 54,
     "metadata": {},
     "output_type": "execute_result"
    },
    {
     "data": {
      "image/png": "[encoded data removed]",
      "text/plain": [
       "<Figure size 640x480 with 1 Axes>"
      ]
     },
     "metadata": {},
     "output_type": "display_data"
    }
   ],
   "source": [
    "feat_imp.tail(10).plot(kind='barh')\n",
    "plt.xlabel('Odds Ratio')"
   ]
  },
  {
   "cell_type": "code",
   "execution_count": 57,
   "id": "a68379f3-3051-450e-8222-b0605adb1ebe",
   "metadata": {},
   "outputs": [
    {
     "data": {
      "text/plain": [
       "Text(0.5, 0, 'Odds Ratio')"
      ]
     },
     "execution_count": 57,
     "metadata": {},
     "output_type": "execute_result"
    },
    {
     "data": {
      "image/png": "[encoded data removed]",
      "text/plain": [
       "<Figure size 640x480 with 1 Axes>"
      ]
     },
     "metadata": {},
     "output_type": "display_data"
    }
   ],
   "source": [
    "feat_imp.head(10).plot(kind='barh')\n",
    "plt.xlabel(\"Odds Ratio\")"
   ]
  },
  {
   "cell_type": "code",
   "execution_count": 92,
   "id": "c98cd9b2-755a-4ad8-afe7-0b812f5419aa",
   "metadata": {},
   "outputs": [
    {
     "name": "stdout",
     "output_type": "stream",
     "text": [
      "Model Accuracy: 0.7097662504002562\n"
     ]
    }
   ],
   "source": [
    "print(f\"Model Accuracy:\", accuracy_score(y_test, y_pred))"
   ]
  },
  {
   "cell_type": "code",
   "execution_count": null,
   "id": "a104d629-d695-4527-ad9d-92e6933b83d3",
   "metadata": {},
   "outputs": [],
   "source": []
  }
 ],
 "metadata": {
  "kernelspec": {
   "display_name": "Python 3 (ipykernel)",
   "language": "python",
   "name": "python3"
  },
  "language_info": {
   "codemirror_mode": {
    "name": "ipython",
    "version": 3
   },
   "file_extension": ".py",
   "mimetype": "text/x-python",
   "name": "python",
   "nbconvert_exporter": "python",
   "pygments_lexer": "ipython3",
   "version": "3.13.0"
  }
 },
 "nbformat": 4,
 "nbformat_minor": 5
}
